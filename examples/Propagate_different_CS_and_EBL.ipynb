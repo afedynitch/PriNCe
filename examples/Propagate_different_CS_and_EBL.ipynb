{
 "cells": [
  {
   "cell_type": "code",
   "execution_count": 1,
   "metadata": {},
   "outputs": [],
   "source": [
    "import os\n",
    "import numpy as np\n",
    "import scipy as sc\n",
    "import matplotlib.pyplot as plt\n",
    "import matplotlib as mpl\n",
    "import pickle as pickle"
   ]
  },
  {
   "cell_type": "markdown",
   "metadata": {},
   "source": [
    "Check numpy and scipy\n",
    "\n",
    "The code will run faster for $z > 1$ if you use these see also the `README.md`:\n",
    "\n",
    "`/afs/ifh.de/group/that/work-jh/git/scipy/scipy/`  \n",
    "`/afs/ifh.de/group/that/work-jh/git/numpy/numpy/`"
   ]
  },
  {
   "cell_type": "code",
   "execution_count": 2,
   "metadata": {},
   "outputs": [
    {
     "name": "stdout",
     "output_type": "stream",
     "text": [
      "<module 'scipy' from '/home/jheinze/programme/anaconda3/lib/python3.7/site-packages/scipy/__init__.py'>\n",
      "<module 'numpy' from '/home/jheinze/programme/anaconda3/lib/python3.7/site-packages/numpy/__init__.py'>\n"
     ]
    }
   ],
   "source": [
    "import inspect\n",
    "print(inspect.getmodule(sc))\n",
    "print(inspect.getmodule(np))"
   ]
  },
  {
   "cell_type": "code",
   "execution_count": 3,
   "metadata": {},
   "outputs": [],
   "source": [
    "import prince_config\n",
    "from prince import core, util, photonfields, cross_sections\n",
    "from prince import util as pru"
   ]
  },
  {
   "cell_type": "markdown",
   "metadata": {},
   "source": [
    "# General Information"
   ]
  },
  {
   "cell_type": "markdown",
   "metadata": {},
   "source": [
    "This Notebook contains reproductions of results from arXiv:1508.01824  \n",
    "Specifically these are propagated spectra for different cross sections and photon fields  \n",
    "**Note:** This notebook contains little documentation, for details see  \n",
    "`examples/Create_Kernel.ipynb` and `examples/Propagate_single_spectrum.ipynb`"
   ]
  },
  {
   "cell_type": "markdown",
   "metadata": {},
   "source": [
    "# Setup and save prince_run objects"
   ]
  },
  {
   "cell_type": "markdown",
   "metadata": {},
   "source": [
    "Setup and save Kernels for different cross sections  \n",
    "Analogous to `examples/Create_Kernel.ipynb`"
   ]
  },
  {
   "cell_type": "code",
   "execution_count": 4,
   "metadata": {
    "scrolled": true
   },
   "outputs": [
    {
     "name": "stdout",
     "output_type": "stream",
     "text": [
      "CompositeCrossSection::_join_models(): Attempt to join 2 models.\n",
      "TabulatedCrossSection::_load(): Load tabulated cross sections\n",
      "TabulatedCrossSection::_load(): Egrid loading finished\n",
      "TabulatedCrossSection::_load(): Data file loading finished\n",
      "TabulatedCrossSection::set_range(): Setting range to 1.00e-06 - 2.00e-01\n",
      "TabulatedCrossSection::set_range(): Range set to 1.00e-06 - 2.00e-01\n",
      "TabulatedCrossSection::_load(): Finished initialization\n",
      "TabulatedCrossSection::_reduce_channels(): Integrating out species with lifetime smaller than inf\n",
      "TabulatedCrossSection::_reduce_channels(): Before optimization, the number of known primaries is 466 with in total 43517 inclusive channels\n",
      "SophiaSuperposition::_load(): Loading SOPHIA cross sections from file.\n",
      "SophiaSuperposition::set_range(): Setting range to 1.58e-01 - 1.00e+08\n",
      "SophiaSuperposition::set_range(): Range set to 1.58e-01 - 1.00e+08\n"
     ]
    },
    {
     "name": "stderr",
     "output_type": "stream",
     "text": [
      "/home/jheinze/python_packages/PriNCe/prince/decays.py:527: RuntimeWarning: invalid value encountered in sqrt\n",
      "  (E_mesh - Emax)**2 - boost**2 * mass_el**2)\n"
     ]
    },
    {
     "name": "stdout",
     "output_type": "stream",
     "text": [
      "TabulatedCrossSection::_reduce_channels(): After optimization, the number of known primaries is 84 with in total 3272 inclusive channels\n",
      "TabulatedCrossSection::set_range(): Setting range to 0.00e+00 - 1.40e-01\n",
      "TabulatedCrossSection::set_range(): Range set to 1.00e-06 - 1.40e-01\n",
      "SophiaSuperposition::_load(): Loading SOPHIA cross sections from file.\n",
      "SophiaSuperposition::set_range(): Setting range to 1.58e-01 - 1.00e+08\n",
      "SophiaSuperposition::set_range(): Range set to 1.58e-01 - 1.00e+08\n",
      "SophiaSuperposition::set_range(): Setting range to 1.40e-01 - 1.00e+08\n",
      "SophiaSuperposition::set_range(): Range set to 1.58e-01 - 1.00e+08\n",
      "CompositeCrossSection::set_range(): Setting range to 1.00e-06 - 1.00e+08\n",
      "CompositeCrossSection::set_range(): Range set to 1.00e-06 - 1.00e+08\n",
      "CompositeCrossSection::_reduce_channels(): Integrating out species with lifetime smaller than inf\n",
      "CompositeCrossSection::_reduce_channels(): Before optimization, the number of known primaries is 84 with in total 2809 inclusive channels\n",
      "CompositeCrossSection::follow_chain():  daughter 51 unknown, forcing beta decay. Not Implemented yet!!\n",
      "CompositeCrossSection::follow_chain():  daughter 51 unknown, forcing beta decay. Not Implemented yet!!\n",
      "CompositeCrossSection::follow_chain():  daughter 51 unknown, forcing beta decay. Not Implemented yet!!\n",
      "CompositeCrossSection::follow_chain():  daughter 51 unknown, forcing beta decay. Not Implemented yet!!\n",
      "CompositeCrossSection::follow_chain():  daughter 51 unknown, forcing beta decay. Not Implemented yet!!\n",
      "CompositeCrossSection::follow_chain():  daughter 51 unknown, forcing beta decay. Not Implemented yet!!\n",
      "CompositeCrossSection::follow_chain():  daughter 51 unknown, forcing beta decay. Not Implemented yet!!\n",
      "CompositeCrossSection::follow_chain():  daughter 51 unknown, forcing beta decay. Not Implemented yet!!\n",
      "CompositeCrossSection::follow_chain():  daughter 51 unknown, forcing beta decay. Not Implemented yet!!\n",
      "CompositeCrossSection::follow_chain():  daughter 51 unknown, forcing beta decay. Not Implemented yet!!\n",
      "CompositeCrossSection::follow_chain():  daughter 51 unknown, forcing beta decay. Not Implemented yet!!\n",
      "CompositeCrossSection::follow_chain():  daughter 51 unknown, forcing beta decay. Not Implemented yet!!\n",
      "CompositeCrossSection::follow_chain():  daughter 51 unknown, forcing beta decay. Not Implemented yet!!\n",
      "CompositeCrossSection::follow_chain():  daughter 51 unknown, forcing beta decay. Not Implemented yet!!\n",
      "CompositeCrossSection::follow_chain():  daughter 51 unknown, forcing beta decay. Not Implemented yet!!\n",
      "CompositeCrossSection::follow_chain():  daughter 51 unknown, forcing beta decay. Not Implemented yet!!\n",
      "CompositeCrossSection::follow_chain():  daughter 51 unknown, forcing beta decay. Not Implemented yet!!\n",
      "CompositeCrossSection::follow_chain():  daughter 51 unknown, forcing beta decay. Not Implemented yet!!\n",
      "CompositeCrossSection::follow_chain():  daughter 51 unknown, forcing beta decay. Not Implemented yet!!\n",
      "CompositeCrossSection::follow_chain():  daughter 51 unknown, forcing beta decay. Not Implemented yet!!\n",
      "CompositeCrossSection::follow_chain():  daughter 51 unknown, forcing beta decay. Not Implemented yet!!\n",
      "CompositeCrossSection::follow_chain():  daughter 51 unknown, forcing beta decay. Not Implemented yet!!\n",
      "CompositeCrossSection::follow_chain():  daughter 51 unknown, forcing beta decay. Not Implemented yet!!\n",
      "CompositeCrossSection::follow_chain():  daughter 51 unknown, forcing beta decay. Not Implemented yet!!\n",
      "CompositeCrossSection::follow_chain():  daughter 51 unknown, forcing beta decay. Not Implemented yet!!\n",
      "CompositeCrossSection::follow_chain():  daughter 51 unknown, forcing beta decay. Not Implemented yet!!\n",
      "CompositeCrossSection::follow_chain():  daughter 51 unknown, forcing beta decay. Not Implemented yet!!\n",
      "CompositeCrossSection::follow_chain():  daughter 51 unknown, forcing beta decay. Not Implemented yet!!\n",
      "CompositeCrossSection::follow_chain():  daughter 51 unknown, forcing beta decay. Not Implemented yet!!\n",
      "CompositeCrossSection::follow_chain():  daughter 51 unknown, forcing beta decay. Not Implemented yet!!\n",
      "CompositeCrossSection::follow_chain():  daughter 51 unknown, forcing beta decay. Not Implemented yet!!\n",
      "CompositeCrossSection::follow_chain():  daughter 51 unknown, forcing beta decay. Not Implemented yet!!\n",
      "CompositeCrossSection::follow_chain():  daughter 51 unknown, forcing beta decay. Not Implemented yet!!\n",
      "CompositeCrossSection::follow_chain():  daughter 51 unknown, forcing beta decay. Not Implemented yet!!\n",
      "CompositeCrossSection::follow_chain():  daughter 51 unknown, forcing beta decay. Not Implemented yet!!\n",
      "CompositeCrossSection::follow_chain():  daughter 51 unknown, forcing beta decay. Not Implemented yet!!\n",
      "CompositeCrossSection::follow_chain():  daughter 51 unknown, forcing beta decay. Not Implemented yet!!\n",
      "CompositeCrossSection::follow_chain():  daughter 51 unknown, forcing beta decay. Not Implemented yet!!\n",
      "CompositeCrossSection::follow_chain():  daughter 51 unknown, forcing beta decay. Not Implemented yet!!\n",
      "CompositeCrossSection::follow_chain():  daughter 51 unknown, forcing beta decay. Not Implemented yet!!\n",
      "CompositeCrossSection::follow_chain():  daughter 51 unknown, forcing beta decay. Not Implemented yet!!\n",
      "CompositeCrossSection::follow_chain():  daughter 51 unknown, forcing beta decay. Not Implemented yet!!\n",
      "CompositeCrossSection::follow_chain():  daughter 51 unknown, forcing beta decay. Not Implemented yet!!\n",
      "CompositeCrossSection::follow_chain():  daughter 51 unknown, forcing beta decay. Not Implemented yet!!\n",
      "CompositeCrossSection::follow_chain():  daughter 51 unknown, forcing beta decay. Not Implemented yet!!\n",
      "CompositeCrossSection::follow_chain():  daughter 51 unknown, forcing beta decay. Not Implemented yet!!\n",
      "CompositeCrossSection::follow_chain():  daughter 51 unknown, forcing beta decay. Not Implemented yet!!\n",
      "CompositeCrossSection::follow_chain():  daughter 51 unknown, forcing beta decay. Not Implemented yet!!\n",
      "CompositeCrossSection::follow_chain():  daughter 51 unknown, forcing beta decay. Not Implemented yet!!\n",
      "CompositeCrossSection::follow_chain():  daughter 51 unknown, forcing beta decay. Not Implemented yet!!\n",
      "CompositeCrossSection::follow_chain():  daughter 51 unknown, forcing beta decay. Not Implemented yet!!\n",
      "CompositeCrossSection::follow_chain():  daughter 51 unknown, forcing beta decay. Not Implemented yet!!\n",
      "CompositeCrossSection::follow_chain():  daughter 51 unknown, forcing beta decay. Not Implemented yet!!\n",
      "CompositeCrossSection::follow_chain():  daughter 51 unknown, forcing beta decay. Not Implemented yet!!\n",
      "CompositeCrossSection::follow_chain():  daughter 51 unknown, forcing beta decay. Not Implemented yet!!\n",
      "CompositeCrossSection::follow_chain():  daughter 51 unknown, forcing beta decay. Not Implemented yet!!\n",
      "CompositeCrossSection::follow_chain():  daughter 51 unknown, forcing beta decay. Not Implemented yet!!\n",
      "CompositeCrossSection::follow_chain():  daughter 51 unknown, forcing beta decay. Not Implemented yet!!\n",
      "CompositeCrossSection::follow_chain():  daughter 51 unknown, forcing beta decay. Not Implemented yet!!\n",
      "CompositeCrossSection::follow_chain():  daughter 51 unknown, forcing beta decay. Not Implemented yet!!\n",
      "CompositeCrossSection::follow_chain():  daughter 51 unknown, forcing beta decay. Not Implemented yet!!\n",
      "CompositeCrossSection::follow_chain():  daughter 51 unknown, forcing beta decay. Not Implemented yet!!\n",
      "CompositeCrossSection::follow_chain():  daughter 51 unknown, forcing beta decay. Not Implemented yet!!\n",
      "CompositeCrossSection::follow_chain():  daughter 51 unknown, forcing beta decay. Not Implemented yet!!\n",
      "CompositeCrossSection::follow_chain():  daughter 51 unknown, forcing beta decay. Not Implemented yet!!\n",
      "CompositeCrossSection::follow_chain():  daughter 51 unknown, forcing beta decay. Not Implemented yet!!\n",
      "CompositeCrossSection::follow_chain():  daughter 51 unknown, forcing beta decay. Not Implemented yet!!\n",
      "CompositeCrossSection::follow_chain():  daughter 51 unknown, forcing beta decay. Not Implemented yet!!\n",
      "CompositeCrossSection::follow_chain():  daughter 51 unknown, forcing beta decay. Not Implemented yet!!\n",
      "CompositeCrossSection::follow_chain():  daughter 51 unknown, forcing beta decay. Not Implemented yet!!\n",
      "CompositeCrossSection::follow_chain():  daughter 51 unknown, forcing beta decay. Not Implemented yet!!\n",
      "CompositeCrossSection::follow_chain():  daughter 51 unknown, forcing beta decay. Not Implemented yet!!\n",
      "CompositeCrossSection::follow_chain():  daughter 51 unknown, forcing beta decay. Not Implemented yet!!\n",
      "CompositeCrossSection::follow_chain():  daughter 51 unknown, forcing beta decay. Not Implemented yet!!\n",
      "CompositeCrossSection::follow_chain():  daughter 51 unknown, forcing beta decay. Not Implemented yet!!\n",
      "CompositeCrossSection::follow_chain():  daughter 51 unknown, forcing beta decay. Not Implemented yet!!\n",
      "CompositeCrossSection::follow_chain():  daughter 51 unknown, forcing beta decay. Not Implemented yet!!\n",
      "CompositeCrossSection::follow_chain():  daughter 51 unknown, forcing beta decay. Not Implemented yet!!\n",
      "CompositeCrossSection::follow_chain():  daughter 51 unknown, forcing beta decay. Not Implemented yet!!\n",
      "CompositeCrossSection::follow_chain():  daughter 51 unknown, forcing beta decay. Not Implemented yet!!\n",
      "CompositeCrossSection::follow_chain():  daughter 51 unknown, forcing beta decay. Not Implemented yet!!\n",
      "CompositeCrossSection::follow_chain():  daughter 51 unknown, forcing beta decay. Not Implemented yet!!\n",
      "CompositeCrossSection::follow_chain():  daughter 51 unknown, forcing beta decay. Not Implemented yet!!\n",
      "CompositeCrossSection::follow_chain():  daughter 51 unknown, forcing beta decay. Not Implemented yet!!\n",
      "CompositeCrossSection::_reduce_channels(): After optimization, the number of known primaries is 84 with in total 3649 inclusive channels\n",
      "PriNCeRun::__init__(): initialising Energy grid\n",
      "New cont loss class init called\n",
      "New pair prod loss class init called\n",
      "using 400 steps in xi\n",
      "New cont loss class init called\n",
      "New pair prod loss class init called\n",
      "using 400 steps in xi\n",
      "direct init in PhotoNuclearInteractionRate\n",
      "CompositeCrossSection::resp(): First Call, creating instance of ResponseFunction now\n",
      "ResponseFunction::_precompute_interpolators(): Computing interpolators for response functions\n",
      "PhotoNuclearInteractionRate::_init_matrices(): Batch matrix dimensions are 7015808x72\n",
      "PhotoNuclearInteractionRate::_init_matrices(): Memory usage: 3853.8984375 MB\n",
      "PhotoNuclearInteractionRate::_init_matrices(): Using bin average value for diff channel\n",
      "PhotoNuclearInteractionRate::_init_matrices(): Inclusive interpolator not found for (1105, 1105)\n",
      "PhotoNuclearInteractionRate::_init_matrices(): Inclusive interpolator not found for (1005, 1005)\n",
      "PhotoNuclearInteractionRate::_init_matrices(): Inclusive interpolator not found for (1004, 1004)\n",
      "PhotoNuclearInteractionRate::_init_matrices(): Inclusive interpolator not found for (904, 904)\n",
      "PhotoNuclearInteractionRate::_init_matrices(): Inclusive interpolator not found for (704, 704)\n",
      "PhotoNuclearInteractionRate::_init_matrices(): Inclusive interpolator not found for (703, 703)\n",
      "PhotoNuclearInteractionRate::_init_matrices(): Inclusive interpolator not found for (603, 603)\n",
      "PhotoNuclearInteractionRate::_init_matrices(): Inclusive interpolator not found for (402, 402)\n",
      "PhotoNuclearInteractionRate::_init_matrices(): Inclusive interpolator not found for (302, 302)\n",
      "PhotoNuclearInteractionRate::_init_matrices(): Inclusive interpolator not found for (301, 301)\n",
      "PhotoNuclearInteractionRate::_init_matrices(): Inclusive interpolator not found for (201, 201)\n",
      "PhotoNuclearInteractionRate::_init_matrices(): Memory usage after initialization: 955.0689697265625 MB\n",
      "PhotoNuclearInteractionRate::_init_coupling_mat(): Initiating coupling matrix in (csr) format\n",
      "SpeciesManager::add_grid(): New grid_tag ph with dimension 72\n",
      "CPU times: user 36min 8s, sys: 46.8 s, total: 36min 55s\n",
      "Wall time: 34min 16s\n"
     ]
    }
   ],
   "source": [
    "%%time\n",
    "pf = photonfields.CombinedPhotonField(\n",
    "                [photonfields.CMBPhotonSpectrum, \n",
    "                 photonfields.CIBGilmore2D])\n",
    "cs = cross_sections.CompositeCrossSection([(0., cross_sections.TabulatedCrossSection, ('CRP2_TALYS',)),\n",
    "                                           (0.14, cross_sections.SophiaSuperposition, ())])\n",
    "prince_run_talys = core.PriNCeRun(max_mass = 56, photon_field=pf, cross_sections=cs)"
   ]
  },
  {
   "cell_type": "code",
   "execution_count": 5,
   "metadata": {},
   "outputs": [
    {
     "name": "stdout",
     "output_type": "stream",
     "text": [
      "CPU times: user 1.92 s, sys: 15.7 s, total: 17.6 s\n",
      "Wall time: 19.9 s\n"
     ]
    }
   ],
   "source": [
    "%%time\n",
    "import os\n",
    "lustre = os.path.expanduser(\"~/data/prince_kernels/\")\n",
    "with open(lustre + 'prince_run_talys_new.ppo','wb') as thefile:\n",
    "    pickle.dump(prince_run_talys, thefile, protocol = -1)"
   ]
  },
  {
   "cell_type": "code",
   "execution_count": 6,
   "metadata": {},
   "outputs": [
    {
     "name": "stdout",
     "output_type": "stream",
     "text": [
      "CompositeCrossSection::_join_models(): Attempt to join 2 models.\n",
      "TabulatedCrossSection::_load(): Load tabulated cross sections\n",
      "load_or_convert_array(): Converting peanut_IAS_egrid to '.npy'\n",
      "TabulatedCrossSection::_load(): Egrid loading finished\n",
      "load_or_convert_array(): Converting peanut_IAS_nonel to '.npy'\n",
      "load_or_convert_array(): Converting peanut_IAS_incl_i_j to '.npy'\n",
      "TabulatedCrossSection::_load(): Data file loading finished\n",
      "TabulatedCrossSection::set_range(): Setting range to 1.00e-03 - 1.00e+00\n",
      "TabulatedCrossSection::set_range(): Range set to 1.00e-03 - 1.00e+00\n",
      "TabulatedCrossSection::_load(): Finished initialization\n",
      "TabulatedCrossSection::_reduce_channels(): Integrating out species with lifetime smaller than inf\n",
      "TabulatedCrossSection::_reduce_channels(): Before optimization, the number of known primaries is 364 with in total 40671 inclusive channels\n",
      "SophiaSuperposition::_load(): Loading SOPHIA cross sections from file.\n",
      "SophiaSuperposition::set_range(): Setting range to 1.58e-01 - 1.00e+08\n",
      "SophiaSuperposition::set_range(): Range set to 1.58e-01 - 1.00e+08\n",
      "TabulatedCrossSection::follow_chain():  daughter 5625 unknown, forcing beta decay. Not Implemented yet!!\n",
      "TabulatedCrossSection::follow_chain():  daughter 5627 unknown, forcing beta decay. Not Implemented yet!!\n",
      "TabulatedCrossSection::_reduce_channels(): After optimization, the number of known primaries is 84 with in total 3892 inclusive channels\n",
      "TabulatedCrossSection::set_range(): Setting range to 0.00e+00 - 1.40e-01\n",
      "TabulatedCrossSection::set_range(): Range set to 1.00e-03 - 1.38e-01\n",
      "SophiaSuperposition::_load(): Loading SOPHIA cross sections from file.\n",
      "SophiaSuperposition::set_range(): Setting range to 1.58e-01 - 1.00e+08\n",
      "SophiaSuperposition::set_range(): Range set to 1.58e-01 - 1.00e+08\n",
      "SophiaSuperposition::set_range(): Setting range to 1.40e-01 - 1.00e+08\n",
      "SophiaSuperposition::set_range(): Range set to 1.58e-01 - 1.00e+08\n",
      "CompositeCrossSection::set_range(): Setting range to 1.00e-03 - 1.00e+08\n",
      "CompositeCrossSection::set_range(): Range set to 1.00e-03 - 1.00e+08\n",
      "CompositeCrossSection::_reduce_channels(): Integrating out species with lifetime smaller than inf\n",
      "CompositeCrossSection::_reduce_channels(): Before optimization, the number of known primaries is 84 with in total 3488 inclusive channels\n",
      "CompositeCrossSection::follow_chain():  daughter 51 unknown, forcing beta decay. Not Implemented yet!!\n",
      "CompositeCrossSection::follow_chain():  daughter 51 unknown, forcing beta decay. Not Implemented yet!!\n",
      "CompositeCrossSection::follow_chain():  daughter 51 unknown, forcing beta decay. Not Implemented yet!!\n",
      "CompositeCrossSection::follow_chain():  daughter 51 unknown, forcing beta decay. Not Implemented yet!!\n",
      "CompositeCrossSection::follow_chain():  daughter 51 unknown, forcing beta decay. Not Implemented yet!!\n",
      "CompositeCrossSection::follow_chain():  daughter 51 unknown, forcing beta decay. Not Implemented yet!!\n",
      "CompositeCrossSection::follow_chain():  daughter 51 unknown, forcing beta decay. Not Implemented yet!!\n",
      "CompositeCrossSection::follow_chain():  daughter 51 unknown, forcing beta decay. Not Implemented yet!!\n",
      "CompositeCrossSection::follow_chain():  daughter 51 unknown, forcing beta decay. Not Implemented yet!!\n",
      "CompositeCrossSection::follow_chain():  daughter 51 unknown, forcing beta decay. Not Implemented yet!!\n",
      "CompositeCrossSection::follow_chain():  daughter 51 unknown, forcing beta decay. Not Implemented yet!!\n",
      "CompositeCrossSection::follow_chain():  daughter 51 unknown, forcing beta decay. Not Implemented yet!!\n",
      "CompositeCrossSection::follow_chain():  daughter 51 unknown, forcing beta decay. Not Implemented yet!!\n",
      "CompositeCrossSection::follow_chain():  daughter 51 unknown, forcing beta decay. Not Implemented yet!!\n",
      "CompositeCrossSection::follow_chain():  daughter 51 unknown, forcing beta decay. Not Implemented yet!!\n",
      "CompositeCrossSection::follow_chain():  daughter 51 unknown, forcing beta decay. Not Implemented yet!!\n",
      "CompositeCrossSection::follow_chain():  daughter 51 unknown, forcing beta decay. Not Implemented yet!!\n",
      "CompositeCrossSection::follow_chain():  daughter 51 unknown, forcing beta decay. Not Implemented yet!!\n",
      "CompositeCrossSection::follow_chain():  daughter 51 unknown, forcing beta decay. Not Implemented yet!!\n",
      "CompositeCrossSection::follow_chain():  daughter 51 unknown, forcing beta decay. Not Implemented yet!!\n",
      "CompositeCrossSection::follow_chain():  daughter 51 unknown, forcing beta decay. Not Implemented yet!!\n",
      "CompositeCrossSection::follow_chain():  daughter 51 unknown, forcing beta decay. Not Implemented yet!!\n",
      "CompositeCrossSection::follow_chain():  daughter 51 unknown, forcing beta decay. Not Implemented yet!!\n",
      "CompositeCrossSection::follow_chain():  daughter 51 unknown, forcing beta decay. Not Implemented yet!!\n",
      "CompositeCrossSection::follow_chain():  daughter 51 unknown, forcing beta decay. Not Implemented yet!!\n",
      "CompositeCrossSection::follow_chain():  daughter 51 unknown, forcing beta decay. Not Implemented yet!!\n",
      "CompositeCrossSection::follow_chain():  daughter 51 unknown, forcing beta decay. Not Implemented yet!!\n",
      "CompositeCrossSection::follow_chain():  daughter 51 unknown, forcing beta decay. Not Implemented yet!!\n",
      "CompositeCrossSection::follow_chain():  daughter 51 unknown, forcing beta decay. Not Implemented yet!!\n",
      "CompositeCrossSection::follow_chain():  daughter 51 unknown, forcing beta decay. Not Implemented yet!!\n",
      "CompositeCrossSection::follow_chain():  daughter 51 unknown, forcing beta decay. Not Implemented yet!!\n",
      "CompositeCrossSection::follow_chain():  daughter 51 unknown, forcing beta decay. Not Implemented yet!!\n",
      "CompositeCrossSection::follow_chain():  daughter 51 unknown, forcing beta decay. Not Implemented yet!!\n",
      "CompositeCrossSection::follow_chain():  daughter 51 unknown, forcing beta decay. Not Implemented yet!!\n",
      "CompositeCrossSection::follow_chain():  daughter 51 unknown, forcing beta decay. Not Implemented yet!!\n",
      "CompositeCrossSection::follow_chain():  daughter 51 unknown, forcing beta decay. Not Implemented yet!!\n",
      "CompositeCrossSection::follow_chain():  daughter 51 unknown, forcing beta decay. Not Implemented yet!!\n",
      "CompositeCrossSection::follow_chain():  daughter 51 unknown, forcing beta decay. Not Implemented yet!!\n",
      "CompositeCrossSection::follow_chain():  daughter 51 unknown, forcing beta decay. Not Implemented yet!!\n",
      "CompositeCrossSection::follow_chain():  daughter 51 unknown, forcing beta decay. Not Implemented yet!!\n",
      "CompositeCrossSection::follow_chain():  daughter 51 unknown, forcing beta decay. Not Implemented yet!!\n",
      "CompositeCrossSection::follow_chain():  daughter 51 unknown, forcing beta decay. Not Implemented yet!!\n",
      "CompositeCrossSection::follow_chain():  daughter 51 unknown, forcing beta decay. Not Implemented yet!!\n",
      "CompositeCrossSection::follow_chain():  daughter 51 unknown, forcing beta decay. Not Implemented yet!!\n",
      "CompositeCrossSection::follow_chain():  daughter 51 unknown, forcing beta decay. Not Implemented yet!!\n",
      "CompositeCrossSection::follow_chain():  daughter 51 unknown, forcing beta decay. Not Implemented yet!!\n",
      "CompositeCrossSection::follow_chain():  daughter 51 unknown, forcing beta decay. Not Implemented yet!!\n",
      "CompositeCrossSection::follow_chain():  daughter 51 unknown, forcing beta decay. Not Implemented yet!!\n",
      "CompositeCrossSection::follow_chain():  daughter 51 unknown, forcing beta decay. Not Implemented yet!!\n",
      "CompositeCrossSection::follow_chain():  daughter 51 unknown, forcing beta decay. Not Implemented yet!!\n",
      "CompositeCrossSection::follow_chain():  daughter 51 unknown, forcing beta decay. Not Implemented yet!!\n",
      "CompositeCrossSection::follow_chain():  daughter 51 unknown, forcing beta decay. Not Implemented yet!!\n",
      "CompositeCrossSection::follow_chain():  daughter 51 unknown, forcing beta decay. Not Implemented yet!!\n",
      "CompositeCrossSection::follow_chain():  daughter 51 unknown, forcing beta decay. Not Implemented yet!!\n",
      "CompositeCrossSection::follow_chain():  daughter 51 unknown, forcing beta decay. Not Implemented yet!!\n",
      "CompositeCrossSection::follow_chain():  daughter 51 unknown, forcing beta decay. Not Implemented yet!!\n",
      "CompositeCrossSection::follow_chain():  daughter 51 unknown, forcing beta decay. Not Implemented yet!!\n",
      "CompositeCrossSection::follow_chain():  daughter 51 unknown, forcing beta decay. Not Implemented yet!!\n",
      "CompositeCrossSection::follow_chain():  daughter 51 unknown, forcing beta decay. Not Implemented yet!!\n",
      "CompositeCrossSection::follow_chain():  daughter 51 unknown, forcing beta decay. Not Implemented yet!!\n",
      "CompositeCrossSection::follow_chain():  daughter 51 unknown, forcing beta decay. Not Implemented yet!!\n",
      "CompositeCrossSection::follow_chain():  daughter 51 unknown, forcing beta decay. Not Implemented yet!!\n",
      "CompositeCrossSection::follow_chain():  daughter 51 unknown, forcing beta decay. Not Implemented yet!!\n",
      "CompositeCrossSection::follow_chain():  daughter 51 unknown, forcing beta decay. Not Implemented yet!!\n",
      "CompositeCrossSection::follow_chain():  daughter 51 unknown, forcing beta decay. Not Implemented yet!!\n",
      "CompositeCrossSection::follow_chain():  daughter 51 unknown, forcing beta decay. Not Implemented yet!!\n",
      "CompositeCrossSection::follow_chain():  daughter 51 unknown, forcing beta decay. Not Implemented yet!!\n",
      "CompositeCrossSection::follow_chain():  daughter 51 unknown, forcing beta decay. Not Implemented yet!!\n",
      "CompositeCrossSection::follow_chain():  daughter 51 unknown, forcing beta decay. Not Implemented yet!!\n",
      "CompositeCrossSection::follow_chain():  daughter 51 unknown, forcing beta decay. Not Implemented yet!!\n",
      "CompositeCrossSection::follow_chain():  daughter 51 unknown, forcing beta decay. Not Implemented yet!!\n",
      "CompositeCrossSection::follow_chain():  daughter 51 unknown, forcing beta decay. Not Implemented yet!!\n",
      "CompositeCrossSection::follow_chain():  daughter 51 unknown, forcing beta decay. Not Implemented yet!!\n",
      "CompositeCrossSection::follow_chain():  daughter 51 unknown, forcing beta decay. Not Implemented yet!!\n",
      "CompositeCrossSection::follow_chain():  daughter 51 unknown, forcing beta decay. Not Implemented yet!!\n",
      "CompositeCrossSection::follow_chain():  daughter 51 unknown, forcing beta decay. Not Implemented yet!!\n",
      "CompositeCrossSection::follow_chain():  daughter 51 unknown, forcing beta decay. Not Implemented yet!!\n",
      "CompositeCrossSection::follow_chain():  daughter 51 unknown, forcing beta decay. Not Implemented yet!!\n",
      "CompositeCrossSection::follow_chain():  daughter 51 unknown, forcing beta decay. Not Implemented yet!!\n",
      "CompositeCrossSection::follow_chain():  daughter 51 unknown, forcing beta decay. Not Implemented yet!!\n",
      "CompositeCrossSection::follow_chain():  daughter 51 unknown, forcing beta decay. Not Implemented yet!!\n",
      "CompositeCrossSection::follow_chain():  daughter 51 unknown, forcing beta decay. Not Implemented yet!!\n",
      "CompositeCrossSection::follow_chain():  daughter 51 unknown, forcing beta decay. Not Implemented yet!!\n",
      "CompositeCrossSection::follow_chain():  daughter 51 unknown, forcing beta decay. Not Implemented yet!!\n",
      "CompositeCrossSection::_reduce_channels(): After optimization, the number of known primaries is 84 with in total 4328 inclusive channels\n",
      "PriNCeRun::__init__(): initialising Energy grid\n",
      "New cont loss class init called\n",
      "New pair prod loss class init called\n",
      "using 400 steps in xi\n",
      "New cont loss class init called\n",
      "New pair prod loss class init called\n",
      "using 400 steps in xi\n",
      "direct init in PhotoNuclearInteractionRate\n",
      "CompositeCrossSection::resp(): First Call, creating instance of ResponseFunction now\n",
      "ResponseFunction::_precompute_interpolators(): Computing interpolators for response functions\n",
      "PhotoNuclearInteractionRate::_init_matrices(): Batch matrix dimensions are 7135312x72\n",
      "PhotoNuclearInteractionRate::_init_matrices(): Memory usage: 3919.5439453125 MB\n",
      "PhotoNuclearInteractionRate::_init_matrices(): Using bin average value for diff channel\n",
      "PhotoNuclearInteractionRate::_init_matrices(): Inclusive interpolator not found for (302, 302)\n",
      "PhotoNuclearInteractionRate::_init_matrices(): Inclusive interpolator not found for (301, 301)\n",
      "PhotoNuclearInteractionRate::_init_matrices(): Inclusive interpolator not found for (201, 201)\n",
      "PhotoNuclearInteractionRate::_init_matrices(): Memory usage after initialization: 988.8565063476562 MB\n",
      "PhotoNuclearInteractionRate::_init_coupling_mat(): Initiating coupling matrix in (csr) format\n",
      "SpeciesManager::add_grid(): New grid_tag ph with dimension 72\n",
      "CPU times: user 36min 41s, sys: 28.8 s, total: 37min 10s\n",
      "Wall time: 32min 14s\n"
     ]
    }
   ],
   "source": [
    "%%time\n",
    "pf = photonfields.CombinedPhotonField(\n",
    "                [photonfields.CMBPhotonSpectrum, \n",
    "                 photonfields.CIBGilmore2D])\n",
    "cs = cross_sections.CompositeCrossSection([(0., cross_sections.TabulatedCrossSection, ('peanut_IAS',)),\n",
    "                                           (0.14, cross_sections.SophiaSuperposition, ())])\n",
    "prince_run_peanut = core.PriNCeRun(max_mass = 56, photon_field=pf, cross_sections=cs)"
   ]
  },
  {
   "cell_type": "code",
   "execution_count": 7,
   "metadata": {},
   "outputs": [
    {
     "name": "stdout",
     "output_type": "stream",
     "text": [
      "CPU times: user 1.06 s, sys: 3.36 s, total: 4.42 s\n",
      "Wall time: 5.6 s\n"
     ]
    }
   ],
   "source": [
    "%%time\n",
    "lustre = os.path.expanduser(\"~/data/prince_kernels/\")\n",
    "with open(lustre + 'prince_run_peanut_new.ppo','wb') as thefile:\n",
    "    pickle.dump(prince_run_peanut, thefile, protocol = -1)"
   ]
  },
  {
   "cell_type": "code",
   "execution_count": 8,
   "metadata": {
    "scrolled": true
   },
   "outputs": [
    {
     "name": "stdout",
     "output_type": "stream",
     "text": [
      "CompositeCrossSection::_join_models(): Attempt to join 2 models.\n",
      "known species after loading NeuCosmA file:\n",
      "[ 100  101  201  302  402  904 1005 1105 1206 1306 1407 1507 1608 1708\n",
      " 1808 1909 2010 2110 2210 2311 2412 2512 2612 2713 2814 2914 3014 3115\n",
      " 3216 3316 3416 3517 3618 3718 3818 3919 4019 4119 4220 4320 4420 4521\n",
      " 4622 4722 4822 4922 5023 5123 5224 5324 5424 5525 5626]\n",
      "NEUCOSMACrossSection::set_range(): Setting range to 3.16e-04 - 1.00e+00\n",
      "NEUCOSMACrossSection::set_range(): Range set to 3.16e-04 - 1.00e+00\n",
      "NEUCOSMACrossSection::_reduce_channels(): Integrating out species with lifetime smaller than inf\n",
      "NEUCOSMACrossSection::_reduce_channels(): Before optimization, the number of known primaries is 53 with in total 683 inclusive channels\n",
      "SophiaSuperposition::_load(): Loading SOPHIA cross sections from file.\n",
      "SophiaSuperposition::set_range(): Setting range to 1.58e-01 - 1.00e+08\n",
      "SophiaSuperposition::set_range(): Range set to 1.58e-01 - 1.00e+08\n",
      "NEUCOSMACrossSection::_reduce_channels(): After optimization, the number of known primaries is 52 with in total 735 inclusive channels\n",
      "NEUCOSMACrossSection::set_range(): Setting range to 0.00e+00 - 1.40e-01\n",
      "NEUCOSMACrossSection::set_range(): Range set to 3.16e-04 - 1.26e-01\n",
      "SophiaSuperposition::_load(): Loading SOPHIA cross sections from file.\n",
      "SophiaSuperposition::set_range(): Setting range to 1.58e-01 - 1.00e+08\n",
      "SophiaSuperposition::set_range(): Range set to 1.58e-01 - 1.00e+08\n",
      "SophiaSuperposition::set_range(): Setting range to 1.40e-01 - 1.00e+08\n",
      "SophiaSuperposition::set_range(): Range set to 1.58e-01 - 1.00e+08\n",
      "CompositeCrossSection::set_range(): Setting range to 3.16e-04 - 1.00e+08\n",
      "CompositeCrossSection::set_range(): Range set to 3.16e-04 - 1.00e+08\n",
      "CompositeCrossSection::_reduce_channels(): Integrating out species with lifetime smaller than inf\n",
      "CompositeCrossSection::_reduce_channels(): Before optimization, the number of known primaries is 52 with in total 582 inclusive channels\n",
      "CompositeCrossSection::follow_chain():  daughter 51 unknown, forcing beta decay. Not Implemented yet!!\n",
      "CompositeCrossSection::follow_chain():  daughter 51 unknown, forcing beta decay. Not Implemented yet!!\n",
      "CompositeCrossSection::follow_chain():  daughter 51 unknown, forcing beta decay. Not Implemented yet!!\n",
      "CompositeCrossSection::follow_chain():  daughter 51 unknown, forcing beta decay. Not Implemented yet!!\n",
      "CompositeCrossSection::follow_chain():  daughter 51 unknown, forcing beta decay. Not Implemented yet!!\n",
      "CompositeCrossSection::follow_chain():  daughter 51 unknown, forcing beta decay. Not Implemented yet!!\n",
      "CompositeCrossSection::follow_chain():  daughter 51 unknown, forcing beta decay. Not Implemented yet!!\n",
      "CompositeCrossSection::follow_chain():  daughter 51 unknown, forcing beta decay. Not Implemented yet!!\n",
      "CompositeCrossSection::follow_chain():  daughter 51 unknown, forcing beta decay. Not Implemented yet!!\n",
      "CompositeCrossSection::follow_chain():  daughter 51 unknown, forcing beta decay. Not Implemented yet!!\n",
      "CompositeCrossSection::follow_chain():  daughter 51 unknown, forcing beta decay. Not Implemented yet!!\n",
      "CompositeCrossSection::follow_chain():  daughter 51 unknown, forcing beta decay. Not Implemented yet!!\n",
      "CompositeCrossSection::follow_chain():  daughter 51 unknown, forcing beta decay. Not Implemented yet!!\n",
      "CompositeCrossSection::follow_chain():  daughter 51 unknown, forcing beta decay. Not Implemented yet!!\n",
      "CompositeCrossSection::follow_chain():  daughter 51 unknown, forcing beta decay. Not Implemented yet!!\n",
      "CompositeCrossSection::follow_chain():  daughter 51 unknown, forcing beta decay. Not Implemented yet!!\n",
      "CompositeCrossSection::follow_chain():  daughter 51 unknown, forcing beta decay. Not Implemented yet!!\n",
      "CompositeCrossSection::follow_chain():  daughter 51 unknown, forcing beta decay. Not Implemented yet!!\n",
      "CompositeCrossSection::follow_chain():  daughter 51 unknown, forcing beta decay. Not Implemented yet!!\n",
      "CompositeCrossSection::follow_chain():  daughter 51 unknown, forcing beta decay. Not Implemented yet!!\n",
      "CompositeCrossSection::follow_chain():  daughter 51 unknown, forcing beta decay. Not Implemented yet!!\n",
      "CompositeCrossSection::follow_chain():  daughter 51 unknown, forcing beta decay. Not Implemented yet!!\n",
      "CompositeCrossSection::follow_chain():  daughter 51 unknown, forcing beta decay. Not Implemented yet!!\n",
      "CompositeCrossSection::follow_chain():  daughter 51 unknown, forcing beta decay. Not Implemented yet!!\n",
      "CompositeCrossSection::follow_chain():  daughter 51 unknown, forcing beta decay. Not Implemented yet!!\n",
      "CompositeCrossSection::follow_chain():  daughter 51 unknown, forcing beta decay. Not Implemented yet!!\n",
      "CompositeCrossSection::follow_chain():  daughter 51 unknown, forcing beta decay. Not Implemented yet!!\n",
      "CompositeCrossSection::follow_chain():  daughter 51 unknown, forcing beta decay. Not Implemented yet!!\n",
      "CompositeCrossSection::follow_chain():  daughter 51 unknown, forcing beta decay. Not Implemented yet!!\n",
      "CompositeCrossSection::follow_chain():  daughter 51 unknown, forcing beta decay. Not Implemented yet!!\n",
      "CompositeCrossSection::follow_chain():  daughter 51 unknown, forcing beta decay. Not Implemented yet!!\n",
      "CompositeCrossSection::follow_chain():  daughter 51 unknown, forcing beta decay. Not Implemented yet!!\n",
      "CompositeCrossSection::follow_chain():  daughter 51 unknown, forcing beta decay. Not Implemented yet!!\n",
      "CompositeCrossSection::follow_chain():  daughter 51 unknown, forcing beta decay. Not Implemented yet!!\n",
      "CompositeCrossSection::follow_chain():  daughter 51 unknown, forcing beta decay. Not Implemented yet!!\n",
      "CompositeCrossSection::follow_chain():  daughter 51 unknown, forcing beta decay. Not Implemented yet!!\n",
      "CompositeCrossSection::follow_chain():  daughter 51 unknown, forcing beta decay. Not Implemented yet!!\n",
      "CompositeCrossSection::follow_chain():  daughter 51 unknown, forcing beta decay. Not Implemented yet!!\n",
      "CompositeCrossSection::follow_chain():  daughter 51 unknown, forcing beta decay. Not Implemented yet!!\n",
      "CompositeCrossSection::follow_chain():  daughter 51 unknown, forcing beta decay. Not Implemented yet!!\n",
      "CompositeCrossSection::follow_chain():  daughter 51 unknown, forcing beta decay. Not Implemented yet!!\n",
      "CompositeCrossSection::follow_chain():  daughter 51 unknown, forcing beta decay. Not Implemented yet!!\n",
      "CompositeCrossSection::follow_chain():  daughter 51 unknown, forcing beta decay. Not Implemented yet!!\n",
      "CompositeCrossSection::follow_chain():  daughter 51 unknown, forcing beta decay. Not Implemented yet!!\n",
      "CompositeCrossSection::follow_chain():  daughter 51 unknown, forcing beta decay. Not Implemented yet!!\n",
      "CompositeCrossSection::follow_chain():  daughter 51 unknown, forcing beta decay. Not Implemented yet!!\n",
      "CompositeCrossSection::follow_chain():  daughter 51 unknown, forcing beta decay. Not Implemented yet!!\n",
      "CompositeCrossSection::follow_chain():  daughter 51 unknown, forcing beta decay. Not Implemented yet!!\n",
      "CompositeCrossSection::follow_chain():  daughter 51 unknown, forcing beta decay. Not Implemented yet!!\n",
      "CompositeCrossSection::follow_chain():  daughter 51 unknown, forcing beta decay. Not Implemented yet!!\n",
      "CompositeCrossSection::follow_chain():  daughter 51 unknown, forcing beta decay. Not Implemented yet!!\n",
      "CompositeCrossSection::follow_chain():  daughter 51 unknown, forcing beta decay. Not Implemented yet!!\n",
      "CompositeCrossSection::_reduce_channels(): After optimization, the number of known primaries is 52 with in total 1102 inclusive channels\n",
      "PriNCeRun::__init__(): initialising Energy grid\n",
      "New cont loss class init called\n",
      "New pair prod loss class init called\n",
      "using 400 steps in xi\n",
      "New cont loss class init called\n",
      "New pair prod loss class init called\n",
      "using 400 steps in xi\n",
      "direct init in PhotoNuclearInteractionRate\n",
      "CompositeCrossSection::resp(): First Call, creating instance of ResponseFunction now\n",
      "ResponseFunction::_precompute_interpolators(): Computing interpolators for response functions\n",
      "PhotoNuclearInteractionRate::_init_matrices(): Batch matrix dimensions are 4139680x72\n",
      "PhotoNuclearInteractionRate::_init_matrices(): Memory usage: 2273.994140625 MB\n",
      "PhotoNuclearInteractionRate::_init_matrices(): Using bin average value for diff channel\n",
      "PhotoNuclearInteractionRate::_init_matrices(): Inclusive interpolator not found for (5626, 5626)\n",
      "PhotoNuclearInteractionRate::_init_matrices(): Inclusive interpolator not found for (5525, 5525)\n",
      "PhotoNuclearInteractionRate::_init_matrices(): Inclusive interpolator not found for (5424, 5424)\n",
      "PhotoNuclearInteractionRate::_init_matrices(): Inclusive interpolator not found for (5324, 5324)\n",
      "PhotoNuclearInteractionRate::_init_matrices(): Inclusive interpolator not found for (5224, 5224)\n",
      "PhotoNuclearInteractionRate::_init_matrices(): Inclusive interpolator not found for (5123, 5123)\n",
      "PhotoNuclearInteractionRate::_init_matrices(): Inclusive interpolator not found for (5023, 5023)\n",
      "PhotoNuclearInteractionRate::_init_matrices(): Inclusive interpolator not found for (4922, 4922)\n",
      "PhotoNuclearInteractionRate::_init_matrices(): Inclusive interpolator not found for (4822, 4822)\n",
      "PhotoNuclearInteractionRate::_init_matrices(): Inclusive interpolator not found for (4722, 4722)\n",
      "PhotoNuclearInteractionRate::_init_matrices(): Inclusive interpolator not found for (4622, 4622)\n",
      "PhotoNuclearInteractionRate::_init_matrices(): Inclusive interpolator not found for (4521, 4521)\n",
      "PhotoNuclearInteractionRate::_init_matrices(): Inclusive interpolator not found for (4420, 4420)\n",
      "PhotoNuclearInteractionRate::_init_matrices(): Inclusive interpolator not found for (4320, 4320)\n",
      "PhotoNuclearInteractionRate::_init_matrices(): Inclusive interpolator not found for (4220, 4220)\n",
      "PhotoNuclearInteractionRate::_init_matrices(): Inclusive interpolator not found for (4119, 4119)\n",
      "PhotoNuclearInteractionRate::_init_matrices(): Inclusive interpolator not found for (4019, 4019)\n",
      "PhotoNuclearInteractionRate::_init_matrices(): Inclusive interpolator not found for (3919, 3919)\n",
      "PhotoNuclearInteractionRate::_init_matrices(): Inclusive interpolator not found for (3818, 3818)\n",
      "PhotoNuclearInteractionRate::_init_matrices(): Inclusive interpolator not found for (3718, 3718)\n",
      "PhotoNuclearInteractionRate::_init_matrices(): Inclusive interpolator not found for (3618, 3618)\n",
      "PhotoNuclearInteractionRate::_init_matrices(): Inclusive interpolator not found for (3517, 3517)\n",
      "PhotoNuclearInteractionRate::_init_matrices(): Inclusive interpolator not found for (3416, 3416)\n",
      "PhotoNuclearInteractionRate::_init_matrices(): Inclusive interpolator not found for (3316, 3316)\n",
      "PhotoNuclearInteractionRate::_init_matrices(): Inclusive interpolator not found for (3216, 3216)\n",
      "PhotoNuclearInteractionRate::_init_matrices(): Inclusive interpolator not found for (3115, 3115)\n",
      "PhotoNuclearInteractionRate::_init_matrices(): Inclusive interpolator not found for (3014, 3014)\n",
      "PhotoNuclearInteractionRate::_init_matrices(): Inclusive interpolator not found for (2914, 2914)\n",
      "PhotoNuclearInteractionRate::_init_matrices(): Inclusive interpolator not found for (2814, 2814)\n",
      "PhotoNuclearInteractionRate::_init_matrices(): Inclusive interpolator not found for (2713, 2713)\n",
      "PhotoNuclearInteractionRate::_init_matrices(): Inclusive interpolator not found for (2612, 2612)\n",
      "PhotoNuclearInteractionRate::_init_matrices(): Inclusive interpolator not found for (2512, 2512)\n",
      "PhotoNuclearInteractionRate::_init_matrices(): Inclusive interpolator not found for (2412, 2412)\n",
      "PhotoNuclearInteractionRate::_init_matrices(): Inclusive interpolator not found for (2311, 2311)\n",
      "PhotoNuclearInteractionRate::_init_matrices(): Inclusive interpolator not found for (2210, 2210)\n",
      "PhotoNuclearInteractionRate::_init_matrices(): Inclusive interpolator not found for (2110, 2110)\n",
      "PhotoNuclearInteractionRate::_init_matrices(): Inclusive interpolator not found for (2010, 2010)\n",
      "PhotoNuclearInteractionRate::_init_matrices(): Inclusive interpolator not found for (1909, 1909)\n",
      "PhotoNuclearInteractionRate::_init_matrices(): Inclusive interpolator not found for (1808, 1808)\n",
      "PhotoNuclearInteractionRate::_init_matrices(): Inclusive interpolator not found for (1708, 1708)\n",
      "PhotoNuclearInteractionRate::_init_matrices(): Inclusive interpolator not found for (1608, 1608)\n",
      "PhotoNuclearInteractionRate::_init_matrices(): Inclusive interpolator not found for (1507, 1507)\n",
      "PhotoNuclearInteractionRate::_init_matrices(): Inclusive interpolator not found for (1407, 1407)\n",
      "PhotoNuclearInteractionRate::_init_matrices(): Inclusive interpolator not found for (1306, 1306)\n",
      "PhotoNuclearInteractionRate::_init_matrices(): Inclusive interpolator not found for (1206, 1206)\n",
      "PhotoNuclearInteractionRate::_init_matrices(): Inclusive interpolator not found for (1105, 1105)\n",
      "PhotoNuclearInteractionRate::_init_matrices(): Inclusive interpolator not found for (1005, 1005)\n",
      "PhotoNuclearInteractionRate::_init_matrices(): Inclusive interpolator not found for (904, 904)\n",
      "PhotoNuclearInteractionRate::_init_matrices(): Inclusive interpolator not found for (402, 402)\n",
      "PhotoNuclearInteractionRate::_init_matrices(): Inclusive interpolator not found for (302, 302)\n",
      "PhotoNuclearInteractionRate::_init_matrices(): Inclusive interpolator not found for (201, 201)\n",
      "PhotoNuclearInteractionRate::_init_matrices(): Memory usage after initialization: 535.2035522460938 MB\n",
      "PhotoNuclearInteractionRate::_init_coupling_mat(): Initiating coupling matrix in (csr) format\n",
      "SpeciesManager::add_grid(): New grid_tag ph with dimension 72\n",
      "CPU times: user 16min 18s, sys: 18 s, total: 16min 36s\n",
      "Wall time: 16min 26s\n"
     ]
    }
   ],
   "source": [
    "%%time\n",
    "pf = photonfields.CombinedPhotonField(\n",
    "                [photonfields.CMBPhotonSpectrum, \n",
    "                 photonfields.CIBGilmore2D])\n",
    "cs = cross_sections.CompositeCrossSection([(0., cross_sections.NEUCOSMACrossSection, ()),\n",
    "                                           (0.14, cross_sections.SophiaSuperposition, ())])\n",
    "prince_run_PSB = core.PriNCeRun(max_mass = 56, photon_field=pf, cross_sections=cs)"
   ]
  },
  {
   "cell_type": "code",
   "execution_count": 9,
   "metadata": {},
   "outputs": [
    {
     "name": "stdout",
     "output_type": "stream",
     "text": [
      "CPU times: user 578 ms, sys: 1.81 s, total: 2.39 s\n",
      "Wall time: 2.85 s\n"
     ]
    }
   ],
   "source": [
    "%%time\n",
    "import os\n",
    "\n",
    "lustre = os.path.expanduser(\"~/data/prince_kernels/\")\n",
    "with open(lustre + 'prince_run_PSB_new2.ppo','wb') as thefile:\n",
    "    pickle.dump(prince_run_PSB, thefile, protocol = -1)"
   ]
  },
  {
   "cell_type": "markdown",
   "metadata": {},
   "source": [
    "# Load a model"
   ]
  },
  {
   "cell_type": "code",
   "execution_count": 10,
   "metadata": {},
   "outputs": [],
   "source": [
    "import os"
   ]
  },
  {
   "cell_type": "code",
   "execution_count": 11,
   "metadata": {},
   "outputs": [],
   "source": [
    "from prince.solvers import UHECRPropagationSolver\n",
    "from prince.cr_sources import SimpleSource, AugerFitSource, RigdityCutoffSource"
   ]
  },
  {
   "cell_type": "code",
   "execution_count": 12,
   "metadata": {},
   "outputs": [
    {
     "name": "stdout",
     "output_type": "stream",
     "text": [
      "CPU times: user 938 ms, sys: 8.45 s, total: 9.39 s\n",
      "Wall time: 11.1 s\n"
     ]
    }
   ],
   "source": [
    "%%time\n",
    "lustre = os.path.expanduser(\"~/data/prince_kernels/\")\n",
    "with open(lustre + 'prince_run_talys_new.ppo','rb') as thefile:\n",
    "    prince_run_talys = pickle.load(thefile)"
   ]
  },
  {
   "cell_type": "code",
   "execution_count": 13,
   "metadata": {},
   "outputs": [
    {
     "name": "stdout",
     "output_type": "stream",
     "text": [
      "CPU times: user 781 ms, sys: 8.66 s, total: 9.44 s\n",
      "Wall time: 10.6 s\n"
     ]
    }
   ],
   "source": [
    "%%time\n",
    "lustre = os.path.expanduser(\"~/data/prince_kernels/\")\n",
    "with open(lustre + 'prince_run_peanut_new.ppo','rb') as thefile:\n",
    "    prince_run_peanut = pickle.load(thefile)"
   ]
  },
  {
   "cell_type": "code",
   "execution_count": 14,
   "metadata": {},
   "outputs": [
    {
     "name": "stdout",
     "output_type": "stream",
     "text": [
      "CPU times: user 344 ms, sys: 33.7 s, total: 34 s\n",
      "Wall time: 34.5 s\n"
     ]
    }
   ],
   "source": [
    "%%time\n",
    "lustre = os.path.expanduser(\"~/data/prince_kernels/\")\n",
    "with open(lustre + 'prince_run_PSB_new2.ppo','rb') as thefile:\n",
    "    prince_run_PSB = pickle.load(thefile)"
   ]
  },
  {
   "cell_type": "markdown",
   "metadata": {},
   "source": [
    "# Different EBL Models"
   ]
  },
  {
   "cell_type": "code",
   "execution_count": 15,
   "metadata": {},
   "outputs": [],
   "source": [
    "from prince.cr_sources import RigdityCutoffSource"
   ]
  },
  {
   "cell_type": "code",
   "execution_count": 16,
   "metadata": {},
   "outputs": [],
   "source": [
    "source_hard_iron = RigdityCutoffSource(prince_run_PSB, params={5626:(1.0, 5e9,  1.0)}, norm=1e-87)\n",
    "source_soft_iron = RigdityCutoffSource(prince_run_PSB, params={5626:(2.0, 1e11, 1.0)}, norm=1e-87)\n",
    "source_hard_nitro = RigdityCutoffSource(prince_run_PSB, params={1407:(1.0, 5e9,  1.0)}, norm=1e-87)\n",
    "source_soft_nitro = RigdityCutoffSource(prince_run_PSB, params={1407:(2.0, 1e11, 1.0)}, norm=1e-87)"
   ]
  },
  {
   "cell_type": "code",
   "execution_count": 17,
   "metadata": {},
   "outputs": [],
   "source": [
    "pf_gilmore = photonfields.CombinedPhotonField(\n",
    "    [photonfields.CMBPhotonSpectrum,photonfields.CIBGilmore2D])\n",
    "\n",
    "pf_dominguez = photonfields.CombinedPhotonField(\n",
    "    [photonfields.CMBPhotonSpectrum,photonfields.CIBDominguez2D])\n",
    "\n",
    "pf_inoue = photonfields.CombinedPhotonField(\n",
    "    [photonfields.CMBPhotonSpectrum,photonfields.CIBInoue2D])\n",
    "\n",
    "pf_franc = photonfields.CombinedPhotonField(\n",
    "    [photonfields.CMBPhotonSpectrum,photonfields.CIBFranceschini2D])"
   ]
  },
  {
   "cell_type": "code",
   "execution_count": 18,
   "metadata": {},
   "outputs": [
    {
     "name": "stderr",
     "output_type": "stream",
     "text": [
      "/home/jheinze/python_packages/PriNCe/prince/photonfields.py:122: RuntimeWarning: overflow encountered in exp\n",
      "  nlocal = pref * Ered**2 / (np.exp(Ered / E_CMB) - 1.0)\n",
      "/home/jheinze/python_packages/PriNCe/prince/photonfields.py:122: RuntimeWarning: overflow encountered in exp\n",
      "  nlocal = pref * Ered**2 / (np.exp(Ered / E_CMB) - 1.0)\n",
      "/home/jheinze/python_packages/PriNCe/prince/photonfields.py:122: RuntimeWarning: overflow encountered in exp\n",
      "  nlocal = pref * Ered**2 / (np.exp(Ered / E_CMB) - 1.0)\n",
      "/home/jheinze/python_packages/PriNCe/prince/photonfields.py:122: RuntimeWarning: overflow encountered in exp\n",
      "  nlocal = pref * Ered**2 / (np.exp(Ered / E_CMB) - 1.0)\n",
      "/home/jheinze/python_packages/PriNCe/prince/photonfields.py:122: RuntimeWarning: overflow encountered in exp\n",
      "  nlocal = pref * Ered**2 / (np.exp(Ered / E_CMB) - 1.0)\n",
      "/home/jheinze/python_packages/PriNCe/prince/photonfields.py:122: RuntimeWarning: overflow encountered in exp\n",
      "  nlocal = pref * Ered**2 / (np.exp(Ered / E_CMB) - 1.0)\n",
      "/home/jheinze/python_packages/PriNCe/prince/photonfields.py:122: RuntimeWarning: overflow encountered in exp\n",
      "  nlocal = pref * Ered**2 / (np.exp(Ered / E_CMB) - 1.0)\n",
      "/home/jheinze/python_packages/PriNCe/prince/photonfields.py:122: RuntimeWarning: overflow encountered in exp\n",
      "  nlocal = pref * Ered**2 / (np.exp(Ered / E_CMB) - 1.0)\n",
      "/home/jheinze/python_packages/PriNCe/prince/photonfields.py:122: RuntimeWarning: overflow encountered in exp\n",
      "  nlocal = pref * Ered**2 / (np.exp(Ered / E_CMB) - 1.0)\n",
      "/home/jheinze/python_packages/PriNCe/prince/photonfields.py:122: RuntimeWarning: overflow encountered in exp\n",
      "  nlocal = pref * Ered**2 / (np.exp(Ered / E_CMB) - 1.0)\n",
      "/home/jheinze/python_packages/PriNCe/prince/photonfields.py:122: RuntimeWarning: overflow encountered in exp\n",
      "  nlocal = pref * Ered**2 / (np.exp(Ered / E_CMB) - 1.0)\n",
      "/home/jheinze/python_packages/PriNCe/prince/photonfields.py:122: RuntimeWarning: overflow encountered in exp\n",
      "  nlocal = pref * Ered**2 / (np.exp(Ered / E_CMB) - 1.0)\n"
     ]
    },
    {
     "data": {
      "image/png": "[encoded data removed]",
      "text/plain": [
       "<Figure size 432x288 with 1 Axes>"
      ]
     },
     "metadata": {
      "needs_background": "light"
     },
     "output_type": "display_data"
    }
   ],
   "source": [
    "fig, (ax1) = plt.subplots(1, figsize = (6,4))\n",
    "\n",
    "eplot = np.logspace(-18, -7, 300)\n",
    "\n",
    "plt.loglog(eplot, eplot * pf_gilmore.get_photon_density(eplot, 0.), label = 'Franc.')\n",
    "plt.loglog(eplot, eplot * pf_dominguez.get_photon_density(eplot, 0.), label = 'Inoue.')\n",
    "plt.loglog(eplot, eplot * pf_inoue.get_photon_density(eplot, 0.), label = 'Gilmore')\n",
    "plt.loglog(eplot, eplot * pf_franc.get_photon_density(eplot, 0.), label = 'Dominguez')\n",
    "\n",
    "plt.gca().set_prop_cycle(None)\n",
    "plt.loglog(eplot, eplot * pf_gilmore.get_photon_density(eplot, 1.), ls = 'dashed')\n",
    "plt.loglog(eplot, eplot * pf_dominguez.get_photon_density(eplot, 1.), ls = 'dashed')\n",
    "plt.loglog(eplot, eplot * pf_inoue.get_photon_density(eplot, 1.), ls = 'dashed')\n",
    "plt.loglog(eplot, eplot * pf_franc.get_photon_density(eplot, 1.), ls = 'dashed')\n",
    "\n",
    "plt.gca().set_prop_cycle(None)\n",
    "plt.loglog(eplot, eplot * pf_gilmore.get_photon_density(eplot, 2.), ls = 'dotted')\n",
    "plt.loglog(eplot, eplot * pf_dominguez.get_photon_density(eplot, 2.), ls = 'dotted')\n",
    "plt.loglog(eplot, eplot * pf_inoue.get_photon_density(eplot, 2.), ls = 'dotted')\n",
    "plt.loglog(eplot, eplot * pf_franc.get_photon_density(eplot, 2.), ls = 'dotted')\n",
    "\n",
    "plt.xlim(1e-14,1e-7)\n",
    "plt.ylim(1e-6,1e3)\n",
    "\n",
    "plt.title('photon densities @ $z = 0, 1, 2$')\n",
    "plt.xlabel('energy [GeV]')\n",
    "plt.ylabel(r'energy $ \\times $ photon density [cm$^{-3}$]')\n",
    "plt.legend()\n",
    "\n",
    "plt.tight_layout()"
   ]
  },
  {
   "cell_type": "markdown",
   "metadata": {},
   "source": [
    "### Hard iron"
   ]
  },
  {
   "cell_type": "code",
   "execution_count": 19,
   "metadata": {},
   "outputs": [],
   "source": [
    "from prince.solvers import UHECRPropagationSolverBDF"
   ]
  },
  {
   "cell_type": "code",
   "execution_count": 20,
   "metadata": {},
   "outputs": [],
   "source": [
    "prince_run = prince_run_PSB"
   ]
  },
  {
   "cell_type": "code",
   "execution_count": 21,
   "metadata": {},
   "outputs": [
    {
     "name": "stdout",
     "output_type": "stream",
     "text": [
      "UHECRPropagationSolverBDF::solve(): Setting up Solver\n"
     ]
    },
    {
     "name": "stderr",
     "output_type": "stream",
     "text": [
      "/home/jheinze/python_packages/PriNCe/prince/photonfields.py:122: RuntimeWarning: overflow encountered in exp\n",
      "  nlocal = pref * Ered**2 / (np.exp(Ered / E_CMB) - 1.0)\n",
      "/home/jheinze/python_packages/PriNCe/prince/photonfields.py:122: RuntimeWarning: overflow encountered in exp\n",
      "  nlocal = pref * Ered**2 / (np.exp(Ered / E_CMB) - 1.0)\n"
     ]
    },
    {
     "name": "stdout",
     "output_type": "stream",
     "text": [
      "UHECRPropagationSolverBDF::solve(): Solver initialized in 4.074589729309082 s\n",
      "UHECRPropagationSolverBDF::solve(): Starting integration.\n"
     ]
    },
    {
     "data": {
      "application/vnd.jupyter.widget-view+json": {
       "model_id": "7d29f7bbc32c4212812db4fe5a07d296",
       "version_major": 2,
       "version_minor": 0
      },
      "text/plain": [
       "HBox(children=(FloatProgress(value=0.0, max=1000.0), HTML(value='')))"
      ]
     },
     "metadata": {},
     "output_type": "display_data"
    },
    {
     "name": "stderr",
     "output_type": "stream",
     "text": [
      "/home/jheinze/python_packages/PriNCe/prince/photonfields.py:122: RuntimeWarning: overflow encountered in exp\n",
      "  nlocal = pref * Ered**2 / (np.exp(Ered / E_CMB) - 1.0)\n"
     ]
    },
    {
     "name": "stdout",
     "output_type": "stream",
     "text": [
      "\n",
      "UHECRPropagationSolverBDF::solve(): Integration completed in 32.02582335472107 s\n"
     ]
    }
   ],
   "source": [
    "prince_run.int_rates.photon_field = pf_gilmore\n",
    "\n",
    "solver_gilmore = UHECRPropagationSolverBDF(initial_z=1., final_z = 0.,prince_run=prince_run,\n",
    "                                   enable_pairprod_losses = True, enable_adiabatic_losses = True,\n",
    "                                   enable_injection_jacobian = True, enable_partial_diff_jacobian=True)\n",
    "solver_gilmore.add_source_class(source_hard_iron)\n",
    "solver_gilmore.solve(dz=1e-3,verbose=False,full_reset=False,progressbar='notebook')"
   ]
  },
  {
   "cell_type": "code",
   "execution_count": 22,
   "metadata": {},
   "outputs": [
    {
     "name": "stdout",
     "output_type": "stream",
     "text": [
      "UHECRPropagationSolverBDF::solve(): Setting up Solver\n"
     ]
    },
    {
     "name": "stderr",
     "output_type": "stream",
     "text": [
      "/home/jheinze/python_packages/PriNCe/prince/photonfields.py:122: RuntimeWarning: overflow encountered in exp\n",
      "  nlocal = pref * Ered**2 / (np.exp(Ered / E_CMB) - 1.0)\n"
     ]
    },
    {
     "name": "stdout",
     "output_type": "stream",
     "text": [
      "UHECRPropagationSolverBDF::solve(): Solver initialized in 4.959062814712524 s\n",
      "UHECRPropagationSolverBDF::solve(): Starting integration.\n"
     ]
    },
    {
     "data": {
      "application/vnd.jupyter.widget-view+json": {
       "model_id": "b5c2ce2c31464b6d85958db943d86e80",
       "version_major": 2,
       "version_minor": 0
      },
      "text/plain": [
       "HBox(children=(FloatProgress(value=0.0, max=1000.0), HTML(value='')))"
      ]
     },
     "metadata": {},
     "output_type": "display_data"
    },
    {
     "name": "stderr",
     "output_type": "stream",
     "text": [
      "/home/jheinze/python_packages/PriNCe/prince/photonfields.py:122: RuntimeWarning: overflow encountered in exp\n",
      "  nlocal = pref * Ered**2 / (np.exp(Ered / E_CMB) - 1.0)\n"
     ]
    },
    {
     "name": "stdout",
     "output_type": "stream",
     "text": [
      "\n",
      "UHECRPropagationSolverBDF::solve(): Integration completed in 36.040393352508545 s\n"
     ]
    }
   ],
   "source": [
    "prince_run.int_rates.photon_field = pf_dominguez\n",
    "\n",
    "solver_dominguez = UHECRPropagationSolverBDF(initial_z=1., final_z = 0.,prince_run=prince_run,\n",
    "                                   enable_pairprod_losses = True, enable_adiabatic_losses = True,\n",
    "                                   enable_injection_jacobian = True, enable_partial_diff_jacobian=True)\n",
    "solver_dominguez.add_source_class(source_hard_iron)\n",
    "solver_dominguez.solve(dz=1e-3,verbose=False,full_reset=False,progressbar='notebook')"
   ]
  },
  {
   "cell_type": "code",
   "execution_count": 23,
   "metadata": {},
   "outputs": [
    {
     "name": "stdout",
     "output_type": "stream",
     "text": [
      "UHECRPropagationSolverBDF::solve(): Setting up Solver\n"
     ]
    },
    {
     "name": "stderr",
     "output_type": "stream",
     "text": [
      "/home/jheinze/python_packages/PriNCe/prince/photonfields.py:122: RuntimeWarning: overflow encountered in exp\n",
      "  nlocal = pref * Ered**2 / (np.exp(Ered / E_CMB) - 1.0)\n"
     ]
    },
    {
     "name": "stdout",
     "output_type": "stream",
     "text": [
      "UHECRPropagationSolverBDF::solve(): Solver initialized in 4.8312249183654785 s\n",
      "UHECRPropagationSolverBDF::solve(): Starting integration.\n"
     ]
    },
    {
     "data": {
      "application/vnd.jupyter.widget-view+json": {
       "model_id": "57d159701de6479fa212236c9c945d44",
       "version_major": 2,
       "version_minor": 0
      },
      "text/plain": [
       "HBox(children=(FloatProgress(value=0.0, max=1000.0), HTML(value='')))"
      ]
     },
     "metadata": {},
     "output_type": "display_data"
    },
    {
     "name": "stderr",
     "output_type": "stream",
     "text": [
      "/home/jheinze/python_packages/PriNCe/prince/photonfields.py:122: RuntimeWarning: overflow encountered in exp\n",
      "  nlocal = pref * Ered**2 / (np.exp(Ered / E_CMB) - 1.0)\n"
     ]
    },
    {
     "name": "stdout",
     "output_type": "stream",
     "text": [
      "\n",
      "UHECRPropagationSolverBDF::solve(): Integration completed in 35.91669988632202 s\n"
     ]
    }
   ],
   "source": [
    "prince_run.int_rates.photon_field = pf_franc\n",
    "\n",
    "solver_franc = UHECRPropagationSolverBDF(initial_z=1., final_z = 0.,prince_run=prince_run,\n",
    "                                   enable_pairprod_losses = True, enable_adiabatic_losses = True,\n",
    "                                   enable_injection_jacobian = True, enable_partial_diff_jacobian=True)\n",
    "solver_franc.add_source_class(source_hard_iron)\n",
    "solver_franc.solve(dz=1e-3,verbose=False,full_reset=False,progressbar='notebook')"
   ]
  },
  {
   "cell_type": "code",
   "execution_count": 24,
   "metadata": {},
   "outputs": [
    {
     "name": "stdout",
     "output_type": "stream",
     "text": [
      "UHECRPropagationSolverBDF::solve(): Setting up Solver\n"
     ]
    },
    {
     "name": "stderr",
     "output_type": "stream",
     "text": [
      "/home/jheinze/python_packages/PriNCe/prince/photonfields.py:122: RuntimeWarning: overflow encountered in exp\n",
      "  nlocal = pref * Ered**2 / (np.exp(Ered / E_CMB) - 1.0)\n"
     ]
    },
    {
     "name": "stdout",
     "output_type": "stream",
     "text": [
      "UHECRPropagationSolverBDF::solve(): Solver initialized in 4.9618589878082275 s\n",
      "UHECRPropagationSolverBDF::solve(): Starting integration.\n"
     ]
    },
    {
     "data": {
      "application/vnd.jupyter.widget-view+json": {
       "model_id": "56543a06c3274273a3ab691086083f29",
       "version_major": 2,
       "version_minor": 0
      },
      "text/plain": [
       "HBox(children=(FloatProgress(value=0.0, max=1000.0), HTML(value='')))"
      ]
     },
     "metadata": {},
     "output_type": "display_data"
    },
    {
     "name": "stderr",
     "output_type": "stream",
     "text": [
      "/home/jheinze/python_packages/PriNCe/prince/photonfields.py:122: RuntimeWarning: overflow encountered in exp\n",
      "  nlocal = pref * Ered**2 / (np.exp(Ered / E_CMB) - 1.0)\n"
     ]
    },
    {
     "name": "stdout",
     "output_type": "stream",
     "text": [
      "\n",
      "UHECRPropagationSolverBDF::solve(): Integration completed in 37.05912804603577 s\n"
     ]
    }
   ],
   "source": [
    "prince_run.int_rates.photon_field = pf_inoue\n",
    "\n",
    "solver_inoue = UHECRPropagationSolverBDF(initial_z=1., final_z = 0.,prince_run=prince_run,\n",
    "                                   enable_pairprod_losses = True, enable_adiabatic_losses = True,\n",
    "                                   enable_injection_jacobian = True, enable_partial_diff_jacobian=True)\n",
    "solver_inoue.add_source_class(source_hard_iron)\n",
    "solver_inoue.solve(dz=1e-3,verbose=False,full_reset=False,progressbar='notebook')"
   ]
  },
  {
   "cell_type": "code",
   "execution_count": 26,
   "metadata": {},
   "outputs": [
    {
     "name": "stderr",
     "output_type": "stream",
     "text": [
      "/home/jheinze/python_packages/PriNCe/prince/solvers.py:118: RuntimeWarning: invalid value encountered in log\n",
      "  np.log(curr_spec),\n",
      "/home/jheinze/python_packages/PriNCe/prince/solvers.py:118: RuntimeWarning: invalid value encountered in log\n",
      "  np.log(curr_spec),\n",
      "/home/jheinze/python_packages/PriNCe/prince/solvers.py:118: RuntimeWarning: invalid value encountered in log\n",
      "  np.log(curr_spec),\n",
      "/home/jheinze/python_packages/PriNCe/prince/solvers.py:118: RuntimeWarning: invalid value encountered in log\n",
      "  np.log(curr_spec),\n",
      "/home/jheinze/python_packages/PriNCe/prince/solvers.py:118: RuntimeWarning: invalid value encountered in log\n",
      "  np.log(curr_spec),\n",
      "/home/jheinze/python_packages/PriNCe/prince/solvers.py:118: RuntimeWarning: invalid value encountered in log\n",
      "  np.log(curr_spec),\n",
      "/home/jheinze/python_packages/PriNCe/prince/solvers.py:118: RuntimeWarning: invalid value encountered in log\n",
      "  np.log(curr_spec),\n",
      "/home/jheinze/python_packages/PriNCe/prince/solvers.py:118: RuntimeWarning: invalid value encountered in log\n",
      "  np.log(curr_spec),\n",
      "/home/jheinze/python_packages/PriNCe/prince/solvers.py:118: RuntimeWarning: invalid value encountered in log\n",
      "  np.log(curr_spec),\n",
      "/home/jheinze/python_packages/PriNCe/prince/solvers.py:118: RuntimeWarning: invalid value encountered in log\n",
      "  np.log(curr_spec),\n",
      "/home/jheinze/python_packages/PriNCe/prince/solvers.py:118: RuntimeWarning: invalid value encountered in log\n",
      "  np.log(curr_spec),\n",
      "/home/jheinze/python_packages/PriNCe/prince/solvers.py:118: RuntimeWarning: invalid value encountered in log\n",
      "  np.log(curr_spec),\n"
     ]
    },
    {
     "data": {
      "image/png": "[encoded data removed]",
      "text/plain": [
       "<Figure size 360x252 with 1 Axes>"
      ]
     },
     "metadata": {
      "needs_background": "light"
     },
     "output_type": "display_data"
    }
   ],
   "source": [
    "from prince.util import get_AZN, PRINCE_UNITS\n",
    "plt.figure(figsize=(5,3.5))\n",
    "\n",
    "z = lambda el: get_AZN(el)[1]\n",
    "energy, spectrum = solver_gilmore.res.get_solution_group(\n",
    "    [el for el in solver_gilmore.known_species[::] if el >= 200])\n",
    "norm = 6e37/np.max(spectrum[(1e10 < energy) & (energy< 1e11)])\n",
    "alpha = .6\n",
    "\n",
    "for eg, ls in zip([solver_gilmore,solver_dominguez],['solid','dashed', 'dotted', '-.']):\n",
    "    \n",
    "#     energy, spectrum = eg.get_solution_group(\n",
    "#         [el for el in eg.prince_run.spec_man.known_species[::] if el >= 200])\n",
    "#     norm = 6e37/np.max(spectrum[(1e10 < energy) & (energy< 1e11)])\n",
    "    \n",
    "    energy, spectrum = eg.res.get_solution_group(\n",
    "        [el for el in eg.known_species[::] if z(el) == 1 and el >= 100 ])\n",
    "    l = plt.plot(np.log10(1e9*energy), norm* spectrum, ls=ls, lw=2., alpha = alpha, label='Z=1', c='b')\n",
    "\n",
    "    energy, spectrum = eg.res.get_solution_group(\n",
    "        [el for el in eg.known_species[::] if z(el) == 2 ])\n",
    "    l = plt.plot(np.log10(1e9*energy), norm* spectrum, ls=ls, lw=2., alpha = alpha, label='Z=2', c='grey')\n",
    "\n",
    "    energy, spectrum = eg.res.get_solution_group(\n",
    "        [el for el in eg.known_species[::] if 3 <= z(el) <= 10 ])\n",
    "    l = plt.plot(np.log10(1e9*energy), norm* spectrum, ls=ls, lw=2., alpha = alpha, label='Z=3-10', c='g')\n",
    "\n",
    "    energy, spectrum = eg.res.get_solution_group(\n",
    "        [el for el in eg.spec_man.known_species[::] if 11 <= z(el) <= 18 ])\n",
    "    l = plt.plot(np.log10(1e9*energy), norm* spectrum, ls=ls, lw=2., alpha = alpha, label='Z=11-18',c='magenta')\n",
    "\n",
    "    energy, spectrum = eg.res.get_solution_group(\n",
    "        [el for el in eg.spec_man.known_species[::] if 19 <= z(el) <= 26 ])\n",
    "    l = plt.plot(np.log10(1e9*energy), norm* spectrum, ls=ls, lw=2., alpha = alpha, label='Z=19-26',c='r')\n",
    "\n",
    "    energy, spectrum = eg.res.get_solution_group(\n",
    "        [el for el in eg.spec_man.known_species[::]  if el >= 100 ])\n",
    "    l = plt.plot(np.log10(1e9*energy), norm* spectrum, ls=ls, lw=2., alpha = alpha, c='k')\n",
    "\n",
    "\n",
    "#custom legend\n",
    "ax = plt.gca()\n",
    "handles, labels = ax.get_legend_handles_labels()\n",
    "display = (0,1,2,3,4)\n",
    "\n",
    "#Create custom artists\n",
    "legend_gilmore = plt.Line2D((0,1),(0,0), color='k', linestyle='solid')\n",
    "legend_dominguez = plt.Line2D((0,1),(0,0), color='k', linestyle='dashed')\n",
    "\n",
    "#Create legend from custom artist/label lists\n",
    "# ax.legend([handle for i,handle in enumerate(handles) if i in display]+[legend_gilmore,legend_dominguez],\n",
    "#           [label for i,label in enumerate(labels) if i in display]+['Gilmore EBL', 'Dominguez EBL'])\n",
    "# ax.legend([handle for i,handle in enumerate(handles) if i in display],\n",
    "#           [label for i,label in enumerate(labels) if i in display])\n",
    "leg2 =  ax.legend([handle for i,handle in enumerate(handles) if i in display],\n",
    "           [label for i,label in enumerate(labels) if i in display],\n",
    "                  ncol = 1, loc = 'lower left', fontsize = 'small')\n",
    "ax.legend([legend_gilmore,legend_dominguez],['Gilmore EBL', 'Dominguez EBL'], \n",
    "          frameon=False, fontsize = 'small')\n",
    "ax.add_artist(leg2)\n",
    "\n",
    "plt.semilogy()\n",
    "# plt.legend(ncol=1, loc='upper left')\n",
    "plt.tick_params(axis='both',top=True,right=True,which='both')\n",
    "plt.xlim(17.5,20.5)\n",
    "plt.ylim(1e35,1e38)\n",
    "# plt.grid()\n",
    "plt.ylabel('E$^3$ J (arbitrary units)', fontsize = 'large')\n",
    "plt.xlabel('log$_{10}$ (E/eV)', fontsize = 'large')\n",
    "plt.title('Hard Iron injection, different EBL models')\n",
    "plt.tight_layout()"
   ]
  },
  {
   "cell_type": "markdown",
   "metadata": {},
   "source": [
    "### Soft iron"
   ]
  },
  {
   "cell_type": "code",
   "execution_count": 27,
   "metadata": {},
   "outputs": [
    {
     "name": "stdout",
     "output_type": "stream",
     "text": [
      "UHECRPropagationSolverBDF::solve(): Setting up Solver\n"
     ]
    },
    {
     "name": "stderr",
     "output_type": "stream",
     "text": [
      "/home/jheinze/python_packages/PriNCe/prince/photonfields.py:122: RuntimeWarning: overflow encountered in exp\n",
      "  nlocal = pref * Ered**2 / (np.exp(Ered / E_CMB) - 1.0)\n",
      "/home/jheinze/python_packages/PriNCe/prince/photonfields.py:122: RuntimeWarning: overflow encountered in exp\n",
      "  nlocal = pref * Ered**2 / (np.exp(Ered / E_CMB) - 1.0)\n"
     ]
    },
    {
     "name": "stdout",
     "output_type": "stream",
     "text": [
      "UHECRPropagationSolverBDF::solve(): Solver initialized in 3.219043016433716 s\n",
      "UHECRPropagationSolverBDF::solve(): Starting integration.\n"
     ]
    },
    {
     "name": "stderr",
     "output_type": "stream",
     "text": [
      "/home/jheinze/python_packages/PriNCe/prince/photonfields.py:122: RuntimeWarning: overflow encountered in exp\n",
      "  nlocal = pref * Ered**2 / (np.exp(Ered / E_CMB) - 1.0)\n"
     ]
    },
    {
     "name": "stdout",
     "output_type": "stream",
     "text": [
      "UHECRPropagationSolverBDF::solve(): Integration completed in 22.761226415634155 s\n"
     ]
    }
   ],
   "source": [
    "prince_run.int_rates.photon_field = pf_gilmore\n",
    "\n",
    "solver_gilmore = UHECRPropagationSolverBDF(initial_z=1., final_z = 0.,prince_run=prince_run,\n",
    "                                   enable_pairprod_losses = True, enable_adiabatic_losses = True,\n",
    "                                   enable_injection_jacobian = True, enable_partial_diff_jacobian=True)\n",
    "solver_gilmore.add_source_class(source_soft_iron)\n",
    "solver_gilmore.solve(dz=1e-3,verbose=False,full_reset=False)"
   ]
  },
  {
   "cell_type": "code",
   "execution_count": 28,
   "metadata": {},
   "outputs": [
    {
     "name": "stdout",
     "output_type": "stream",
     "text": [
      "UHECRPropagationSolverBDF::solve(): Setting up Solver\n"
     ]
    },
    {
     "name": "stderr",
     "output_type": "stream",
     "text": [
      "/home/jheinze/python_packages/PriNCe/prince/photonfields.py:122: RuntimeWarning: overflow encountered in exp\n",
      "  nlocal = pref * Ered**2 / (np.exp(Ered / E_CMB) - 1.0)\n"
     ]
    },
    {
     "name": "stdout",
     "output_type": "stream",
     "text": [
      "UHECRPropagationSolverBDF::solve(): Solver initialized in 3.383878231048584 s\n",
      "UHECRPropagationSolverBDF::solve(): Starting integration.\n"
     ]
    },
    {
     "name": "stderr",
     "output_type": "stream",
     "text": [
      "/home/jheinze/python_packages/PriNCe/prince/photonfields.py:122: RuntimeWarning: overflow encountered in exp\n",
      "  nlocal = pref * Ered**2 / (np.exp(Ered / E_CMB) - 1.0)\n"
     ]
    },
    {
     "name": "stdout",
     "output_type": "stream",
     "text": [
      "UHECRPropagationSolverBDF::solve(): Integration completed in 24.000822067260742 s\n"
     ]
    }
   ],
   "source": [
    "prince_run.int_rates.photon_field = pf_dominguez\n",
    "\n",
    "solver_dominguez = UHECRPropagationSolverBDF(initial_z=1., final_z = 0.,prince_run=prince_run,\n",
    "                                   enable_pairprod_losses = True, enable_adiabatic_losses = True,\n",
    "                                   enable_injection_jacobian = True, enable_partial_diff_jacobian=True)\n",
    "solver_dominguez.add_source_class(source_soft_iron)\n",
    "solver_dominguez.solve(dz=1e-3,verbose=False,full_reset=False)"
   ]
  },
  {
   "cell_type": "code",
   "execution_count": 29,
   "metadata": {},
   "outputs": [
    {
     "name": "stdout",
     "output_type": "stream",
     "text": [
      "UHECRPropagationSolverBDF::solve(): Setting up Solver\n"
     ]
    },
    {
     "name": "stderr",
     "output_type": "stream",
     "text": [
      "/home/jheinze/python_packages/PriNCe/prince/photonfields.py:122: RuntimeWarning: overflow encountered in exp\n",
      "  nlocal = pref * Ered**2 / (np.exp(Ered / E_CMB) - 1.0)\n"
     ]
    },
    {
     "name": "stdout",
     "output_type": "stream",
     "text": [
      "UHECRPropagationSolverBDF::solve(): Solver initialized in 3.0977401733398438 s\n",
      "UHECRPropagationSolverBDF::solve(): Starting integration.\n"
     ]
    },
    {
     "name": "stderr",
     "output_type": "stream",
     "text": [
      "/home/jheinze/python_packages/PriNCe/prince/photonfields.py:122: RuntimeWarning: overflow encountered in exp\n",
      "  nlocal = pref * Ered**2 / (np.exp(Ered / E_CMB) - 1.0)\n"
     ]
    },
    {
     "name": "stdout",
     "output_type": "stream",
     "text": [
      "UHECRPropagationSolverBDF::solve(): Integration completed in 22.422011613845825 s\n"
     ]
    }
   ],
   "source": [
    "prince_run.int_rates.photon_field = pf_franc\n",
    "\n",
    "solver_franc = UHECRPropagationSolverBDF(initial_z=1., final_z = 0.,prince_run=prince_run,\n",
    "                                   enable_pairprod_losses = True, enable_adiabatic_losses = True,\n",
    "                                   enable_injection_jacobian = True, enable_partial_diff_jacobian=True)\n",
    "solver_franc.add_source_class(source_soft_iron)\n",
    "solver_franc.solve(dz=1e-3,verbose=False,full_reset=False)"
   ]
  },
  {
   "cell_type": "code",
   "execution_count": 30,
   "metadata": {},
   "outputs": [
    {
     "name": "stdout",
     "output_type": "stream",
     "text": [
      "UHECRPropagationSolverBDF::solve(): Setting up Solver\n"
     ]
    },
    {
     "name": "stderr",
     "output_type": "stream",
     "text": [
      "/home/jheinze/python_packages/PriNCe/prince/photonfields.py:122: RuntimeWarning: overflow encountered in exp\n",
      "  nlocal = pref * Ered**2 / (np.exp(Ered / E_CMB) - 1.0)\n"
     ]
    },
    {
     "name": "stdout",
     "output_type": "stream",
     "text": [
      "UHECRPropagationSolverBDF::solve(): Solver initialized in 3.145150661468506 s\n",
      "UHECRPropagationSolverBDF::solve(): Starting integration.\n"
     ]
    },
    {
     "name": "stderr",
     "output_type": "stream",
     "text": [
      "/home/jheinze/python_packages/PriNCe/prince/photonfields.py:122: RuntimeWarning: overflow encountered in exp\n",
      "  nlocal = pref * Ered**2 / (np.exp(Ered / E_CMB) - 1.0)\n"
     ]
    },
    {
     "name": "stdout",
     "output_type": "stream",
     "text": [
      "UHECRPropagationSolverBDF::solve(): Integration completed in 21.862921953201294 s\n"
     ]
    }
   ],
   "source": [
    "prince_run.int_rates.photon_field = pf_inoue\n",
    "\n",
    "solver_inoue = UHECRPropagationSolverBDF(initial_z=1., final_z = 0.,prince_run=prince_run,\n",
    "                                   enable_pairprod_losses = True, enable_adiabatic_losses = True,\n",
    "                                   enable_injection_jacobian = True, enable_partial_diff_jacobian=True)\n",
    "solver_inoue.add_source_class(source_soft_iron)\n",
    "solver_inoue.solve(dz=1e-3,verbose=False,full_reset=False)"
   ]
  },
  {
   "cell_type": "code",
   "execution_count": 32,
   "metadata": {},
   "outputs": [
    {
     "name": "stderr",
     "output_type": "stream",
     "text": [
      "/home/jheinze/python_packages/PriNCe/prince/solvers.py:118: RuntimeWarning: invalid value encountered in log\n",
      "  np.log(curr_spec),\n",
      "/home/jheinze/python_packages/PriNCe/prince/solvers.py:118: RuntimeWarning: invalid value encountered in log\n",
      "  np.log(curr_spec),\n",
      "/home/jheinze/python_packages/PriNCe/prince/solvers.py:118: RuntimeWarning: invalid value encountered in log\n",
      "  np.log(curr_spec),\n",
      "/home/jheinze/python_packages/PriNCe/prince/solvers.py:118: RuntimeWarning: invalid value encountered in log\n",
      "  np.log(curr_spec),\n",
      "/home/jheinze/python_packages/PriNCe/prince/solvers.py:118: RuntimeWarning: invalid value encountered in log\n",
      "  np.log(curr_spec),\n",
      "/home/jheinze/python_packages/PriNCe/prince/solvers.py:118: RuntimeWarning: invalid value encountered in log\n",
      "  np.log(curr_spec),\n",
      "/home/jheinze/python_packages/PriNCe/prince/solvers.py:118: RuntimeWarning: invalid value encountered in log\n",
      "  np.log(curr_spec),\n",
      "/home/jheinze/python_packages/PriNCe/prince/solvers.py:118: RuntimeWarning: invalid value encountered in log\n",
      "  np.log(curr_spec),\n",
      "/home/jheinze/python_packages/PriNCe/prince/solvers.py:118: RuntimeWarning: invalid value encountered in log\n",
      "  np.log(curr_spec),\n",
      "/home/jheinze/python_packages/PriNCe/prince/solvers.py:118: RuntimeWarning: invalid value encountered in log\n",
      "  np.log(curr_spec),\n",
      "/home/jheinze/python_packages/PriNCe/prince/solvers.py:118: RuntimeWarning: invalid value encountered in log\n",
      "  np.log(curr_spec),\n",
      "/home/jheinze/python_packages/PriNCe/prince/solvers.py:118: RuntimeWarning: invalid value encountered in log\n",
      "  np.log(curr_spec),\n"
     ]
    },
    {
     "data": {
      "image/png": "[encoded data removed]",
      "text/plain": [
       "<Figure size 360x252 with 1 Axes>"
      ]
     },
     "metadata": {
      "needs_background": "light"
     },
     "output_type": "display_data"
    }
   ],
   "source": [
    "from prince.util import get_AZN, PRINCE_UNITS\n",
    "plt.figure(figsize=(5,3.5))\n",
    "\n",
    "z = lambda el: get_AZN(el)[1]\n",
    "energy, spectrum = solver_gilmore.res.get_solution_group(\n",
    "    [el for el in solver_gilmore.known_species[::] if el >= 200])\n",
    "norm = 6e37/np.max(spectrum[(1e10 < energy) & (energy< 1e11)])\n",
    "alpha = .6\n",
    "\n",
    "for eg, ls in zip([solver_gilmore,solver_dominguez],['solid','dashed', 'dotted', '-.']):\n",
    "    \n",
    "#     energy, spectrum = eg.get_solution_group(\n",
    "#         [el for el in eg.prince_run.spec_man.known_species[::] if el >= 200])\n",
    "#     norm = 6e37/np.max(spectrum[(1e10 < energy) & (energy< 1e11)])\n",
    "    \n",
    "    energy, spectrum = eg.res.get_solution_group(\n",
    "        [el for el in eg.known_species[::] if z(el) == 1 and el >= 100 ])\n",
    "    l = plt.plot(np.log10(1e9*energy), norm* spectrum, ls=ls, lw=2., alpha = alpha, label='Z=1', c='b')\n",
    "\n",
    "    energy, spectrum = eg.res.get_solution_group(\n",
    "        [el for el in eg.known_species[::] if z(el) == 2 ])\n",
    "    l = plt.plot(np.log10(1e9*energy), norm* spectrum, ls=ls, lw=2., alpha = alpha, label='Z=2', c='grey')\n",
    "\n",
    "    energy, spectrum = eg.res.get_solution_group(\n",
    "        [el for el in eg.known_species[::] if 3 <= z(el) <= 10 ])\n",
    "    l = plt.plot(np.log10(1e9*energy), norm* spectrum, ls=ls, lw=2., alpha = alpha, label='Z=3-10', c='g')\n",
    "\n",
    "    energy, spectrum = eg.res.get_solution_group(\n",
    "        [el for el in eg.spec_man.known_species[::] if 11 <= z(el) <= 18 ])\n",
    "    l = plt.plot(np.log10(1e9*energy), norm* spectrum, ls=ls, lw=2., alpha = alpha, label='Z=11-18',c='magenta')\n",
    "\n",
    "    energy, spectrum = eg.res.get_solution_group(\n",
    "        [el for el in eg.spec_man.known_species[::] if 19 <= z(el) <= 26 ])\n",
    "    l = plt.plot(np.log10(1e9*energy), norm* spectrum, ls=ls, lw=2., alpha = alpha, label='Z=19-26',c='r')\n",
    "\n",
    "    energy, spectrum = eg.res.get_solution_group(\n",
    "        [el for el in eg.spec_man.known_species[::]  if el >= 100 ])\n",
    "    l = plt.plot(np.log10(1e9*energy), norm* spectrum, ls=ls, lw=2., alpha = alpha, c='k')\n",
    "\n",
    "\n",
    "#custom legend\n",
    "ax = plt.gca()\n",
    "handles, labels = ax.get_legend_handles_labels()\n",
    "display = (0,1,2,3,4)\n",
    "\n",
    "#Create custom artists\n",
    "legend_gilmore = plt.Line2D((0,1),(0,0), color='k', linestyle='solid')\n",
    "legend_dominguez = plt.Line2D((0,1),(0,0), color='k', linestyle='dashed')\n",
    "\n",
    "#Create legend from custom artist/label lists\n",
    "# ax.legend([handle for i,handle in enumerate(handles) if i in display]+[legend_gilmore,legend_dominguez],\n",
    "#           [label for i,label in enumerate(labels) if i in display]+['Gilmore EBL', 'Dominguez EBL'])\n",
    "# ax.legend([handle for i,handle in enumerate(handles) if i in display],\n",
    "#           [label for i,label in enumerate(labels) if i in display])\n",
    "leg2 =  ax.legend([handle for i,handle in enumerate(handles) if i in display],\n",
    "           [label for i,label in enumerate(labels) if i in display],\n",
    "                  ncol = 1, loc = 'lower left', fontsize = 'small')\n",
    "ax.legend([legend_gilmore,legend_dominguez],['Gilmore EBL', 'Dominguez EBL'], \n",
    "          frameon=False, loc = 'upper left', fontsize = 'small')\n",
    "ax.add_artist(leg2)\n",
    "\n",
    "plt.semilogy()\n",
    "# plt.legend(ncol=1, loc='upper left')\n",
    "plt.tick_params(axis='both',top=True,right=True,which='both')\n",
    "plt.xlim(17.5,20.5)\n",
    "plt.ylim(1e35,1e38)\n",
    "# plt.grid()\n",
    "plt.ylabel('E$^3$ J (arbitrary units)', fontsize = 'large')\n",
    "plt.xlabel('log$_{10}$ (E/eV)', fontsize = 'large')\n",
    "plt.title('Soft Iron injection, different EBL models')\n",
    "plt.tight_layout()"
   ]
  },
  {
   "cell_type": "markdown",
   "metadata": {},
   "source": [
    "# Different cross-sections"
   ]
  },
  {
   "cell_type": "code",
   "execution_count": 33,
   "metadata": {},
   "outputs": [],
   "source": [
    "prince_run_PSB.int_rates.photon_field = pf_gilmore\n",
    "prince_run_talys.int_rates.photon_field = pf_gilmore\n",
    "prince_run_peanut.int_rates.photon_field = pf_gilmore"
   ]
  },
  {
   "cell_type": "markdown",
   "metadata": {},
   "source": [
    "### Hard iron"
   ]
  },
  {
   "cell_type": "code",
   "execution_count": 34,
   "metadata": {},
   "outputs": [
    {
     "name": "stdout",
     "output_type": "stream",
     "text": [
      "UHECRPropagationSolverBDF::solve(): Setting up Solver\n"
     ]
    },
    {
     "name": "stderr",
     "output_type": "stream",
     "text": [
      "/home/jheinze/python_packages/PriNCe/prince/photonfields.py:122: RuntimeWarning: overflow encountered in exp\n",
      "  nlocal = pref * Ered**2 / (np.exp(Ered / E_CMB) - 1.0)\n",
      "/home/jheinze/python_packages/PriNCe/prince/photonfields.py:122: RuntimeWarning: overflow encountered in exp\n",
      "  nlocal = pref * Ered**2 / (np.exp(Ered / E_CMB) - 1.0)\n"
     ]
    },
    {
     "name": "stdout",
     "output_type": "stream",
     "text": [
      "UHECRPropagationSolverBDF::solve(): Solver initialized in 17.562132120132446 s\n",
      "UHECRPropagationSolverBDF::solve(): Starting integration.\n"
     ]
    },
    {
     "name": "stderr",
     "output_type": "stream",
     "text": [
      "/home/jheinze/python_packages/PriNCe/prince/photonfields.py:122: RuntimeWarning: overflow encountered in exp\n",
      "  nlocal = pref * Ered**2 / (np.exp(Ered / E_CMB) - 1.0)\n"
     ]
    },
    {
     "name": "stdout",
     "output_type": "stream",
     "text": [
      "UHECRPropagationSolverBDF::solve(): Integration completed in 75.1018316745758 s\n"
     ]
    }
   ],
   "source": [
    "source_hard_iron = RigdityCutoffSource(prince_run_talys, params={5626:(1.0, 5e9,  1.0)}, norm=1e-87)\n",
    "\n",
    "solver_talys = UHECRPropagationSolverBDF(initial_z=1., final_z = 0.,prince_run=prince_run_talys,\n",
    "                                   enable_pairprod_losses = True, enable_adiabatic_losses = True,\n",
    "                                   enable_injection_jacobian = True, enable_partial_diff_jacobian=True)\n",
    "solver_talys.add_source_class(source_hard_iron)\n",
    "solver_talys.solve(dz=1e-3,verbose=False,full_reset=False)"
   ]
  },
  {
   "cell_type": "code",
   "execution_count": 35,
   "metadata": {},
   "outputs": [
    {
     "name": "stdout",
     "output_type": "stream",
     "text": [
      "UHECRPropagationSolverBDF::solve(): Setting up Solver\n"
     ]
    },
    {
     "name": "stderr",
     "output_type": "stream",
     "text": [
      "/home/jheinze/python_packages/PriNCe/prince/photonfields.py:122: RuntimeWarning: overflow encountered in exp\n",
      "  nlocal = pref * Ered**2 / (np.exp(Ered / E_CMB) - 1.0)\n"
     ]
    },
    {
     "name": "stdout",
     "output_type": "stream",
     "text": [
      "UHECRPropagationSolverBDF::solve(): Solver initialized in 6.089564800262451 s\n",
      "UHECRPropagationSolverBDF::solve(): Starting integration.\n"
     ]
    },
    {
     "name": "stderr",
     "output_type": "stream",
     "text": [
      "/home/jheinze/python_packages/PriNCe/prince/photonfields.py:122: RuntimeWarning: overflow encountered in exp\n",
      "  nlocal = pref * Ered**2 / (np.exp(Ered / E_CMB) - 1.0)\n"
     ]
    },
    {
     "name": "stdout",
     "output_type": "stream",
     "text": [
      "UHECRPropagationSolverBDF::solve(): Integration completed in 41.125330209732056 s\n"
     ]
    }
   ],
   "source": [
    "source_hard_iron = RigdityCutoffSource(prince_run_PSB, params={5626:(1.0, 5e9,  1.0)}, norm=1e-87)\n",
    "\n",
    "solver_PSB = UHECRPropagationSolverBDF(initial_z=1., final_z = 0.,prince_run=prince_run_PSB,\n",
    "                                   enable_pairprod_losses = True, enable_adiabatic_losses = True,\n",
    "                                   enable_injection_jacobian = True, enable_partial_diff_jacobian=True)\n",
    "solver_PSB.add_source_class(source_hard_iron)\n",
    "solver_PSB.solve(dz=1e-3,verbose=False,full_reset=False)"
   ]
  },
  {
   "cell_type": "code",
   "execution_count": 36,
   "metadata": {},
   "outputs": [
    {
     "name": "stdout",
     "output_type": "stream",
     "text": [
      "UHECRPropagationSolverBDF::solve(): Setting up Solver\n"
     ]
    },
    {
     "name": "stderr",
     "output_type": "stream",
     "text": [
      "/home/jheinze/python_packages/PriNCe/prince/photonfields.py:122: RuntimeWarning: overflow encountered in exp\n",
      "  nlocal = pref * Ered**2 / (np.exp(Ered / E_CMB) - 1.0)\n"
     ]
    },
    {
     "name": "stdout",
     "output_type": "stream",
     "text": [
      "UHECRPropagationSolverBDF::solve(): Solver initialized in 18.297433853149414 s\n",
      "UHECRPropagationSolverBDF::solve(): Starting integration.\n"
     ]
    },
    {
     "name": "stderr",
     "output_type": "stream",
     "text": [
      "/home/jheinze/python_packages/PriNCe/prince/photonfields.py:122: RuntimeWarning: overflow encountered in exp\n",
      "  nlocal = pref * Ered**2 / (np.exp(Ered / E_CMB) - 1.0)\n"
     ]
    },
    {
     "name": "stdout",
     "output_type": "stream",
     "text": [
      "UHECRPropagationSolverBDF::solve(): Integration completed in 68.70171284675598 s\n"
     ]
    }
   ],
   "source": [
    "source_hard_iron = RigdityCutoffSource(prince_run_peanut, params={5626:(1.0, 5e9,  1.0)}, norm=1e-87)\n",
    "\n",
    "solver_penaut = UHECRPropagationSolverBDF(initial_z=1., final_z = 0.,prince_run=prince_run_peanut,\n",
    "                                   enable_pairprod_losses = True, enable_adiabatic_losses = True,\n",
    "                                   enable_injection_jacobian = True, enable_partial_diff_jacobian=True)\n",
    "solver_penaut.add_source_class(source_hard_iron)\n",
    "solver_penaut.solve(dz=1e-3,verbose=False,full_reset=False)"
   ]
  },
  {
   "cell_type": "code",
   "execution_count": 37,
   "metadata": {},
   "outputs": [
    {
     "name": "stderr",
     "output_type": "stream",
     "text": [
      "/home/jheinze/python_packages/PriNCe/prince/solvers.py:118: RuntimeWarning: invalid value encountered in log\n",
      "  np.log(curr_spec),\n",
      "/home/jheinze/python_packages/PriNCe/prince/solvers.py:118: RuntimeWarning: invalid value encountered in log\n",
      "  np.log(curr_spec),\n",
      "/home/jheinze/python_packages/PriNCe/prince/solvers.py:118: RuntimeWarning: invalid value encountered in log\n",
      "  np.log(curr_spec),\n",
      "/home/jheinze/python_packages/PriNCe/prince/solvers.py:118: RuntimeWarning: invalid value encountered in log\n",
      "  np.log(curr_spec),\n",
      "/home/jheinze/python_packages/PriNCe/prince/solvers.py:118: RuntimeWarning: invalid value encountered in log\n",
      "  np.log(curr_spec),\n",
      "/home/jheinze/python_packages/PriNCe/prince/solvers.py:118: RuntimeWarning: invalid value encountered in log\n",
      "  np.log(curr_spec),\n",
      "/home/jheinze/python_packages/PriNCe/prince/solvers.py:118: RuntimeWarning: invalid value encountered in log\n",
      "  np.log(curr_spec),\n",
      "/home/jheinze/python_packages/PriNCe/prince/solvers.py:118: RuntimeWarning: invalid value encountered in log\n",
      "  np.log(curr_spec),\n",
      "/home/jheinze/python_packages/PriNCe/prince/solvers.py:118: RuntimeWarning: invalid value encountered in log\n",
      "  np.log(curr_spec),\n",
      "/home/jheinze/python_packages/PriNCe/prince/solvers.py:118: RuntimeWarning: invalid value encountered in log\n",
      "  np.log(curr_spec),\n",
      "/home/jheinze/python_packages/PriNCe/prince/solvers.py:118: RuntimeWarning: invalid value encountered in log\n",
      "  np.log(curr_spec),\n",
      "/home/jheinze/python_packages/PriNCe/prince/solvers.py:118: RuntimeWarning: invalid value encountered in log\n",
      "  np.log(curr_spec),\n",
      "/home/jheinze/python_packages/PriNCe/prince/solvers.py:118: RuntimeWarning: invalid value encountered in log\n",
      "  np.log(curr_spec),\n",
      "/home/jheinze/python_packages/PriNCe/prince/solvers.py:118: RuntimeWarning: invalid value encountered in log\n",
      "  np.log(curr_spec),\n",
      "/home/jheinze/python_packages/PriNCe/prince/solvers.py:118: RuntimeWarning: invalid value encountered in log\n",
      "  np.log(curr_spec),\n",
      "/home/jheinze/python_packages/PriNCe/prince/solvers.py:118: RuntimeWarning: invalid value encountered in log\n",
      "  np.log(curr_spec),\n",
      "/home/jheinze/python_packages/PriNCe/prince/solvers.py:118: RuntimeWarning: invalid value encountered in log\n",
      "  np.log(curr_spec),\n",
      "/home/jheinze/python_packages/PriNCe/prince/solvers.py:118: RuntimeWarning: invalid value encountered in log\n",
      "  np.log(curr_spec),\n"
     ]
    },
    {
     "data": {
      "image/png": "[encoded data removed]",
      "text/plain": [
       "<Figure size 360x252 with 1 Axes>"
      ]
     },
     "metadata": {
      "needs_background": "light"
     },
     "output_type": "display_data"
    }
   ],
   "source": [
    "from prince.util import get_AZN, PRINCE_UNITS\n",
    "plt.figure(figsize=(5,3.5))\n",
    "\n",
    "z = lambda el: get_AZN(el)[1]\n",
    "energy, spectrum = solver_penaut.res.get_solution_group(\n",
    "    [el for el in solver_penaut.spec_man.known_species[::] if el >= 200])\n",
    "norm = 4e37/np.max(spectrum[(1e10 < energy) & (energy< 1e11)])\n",
    "alpha = .6\n",
    "\n",
    "for eg, ls in zip([solver_talys,solver_PSB, solver_penaut],['solid','dashed', 'dotted', '-.']):\n",
    "    \n",
    "#     energy, spectrum = eg.get_solution_group(\n",
    "#         [el for el in eg.prince_run.spec_man.known_species[::] if el >= 200])\n",
    "#     norm = 6e37/np.max(spectrum[(1e10 < energy) & (energy< 1e11)])\n",
    "    \n",
    "    energy, spectrum = eg.res.get_solution_group(\n",
    "        [el for el in eg.spec_man.known_species[::] if z(el) == 1 and el >=100 ])\n",
    "    l = plt.plot(np.log10(1e9*energy), norm* spectrum, ls=ls, lw=2., alpha = alpha, label='Z=1', c='b')\n",
    "\n",
    "    energy, spectrum = eg.res.get_solution_group(\n",
    "        [el for el in eg.spec_man.known_species[::] if z(el) == 2 ])\n",
    "    l = plt.plot(np.log10(1e9*energy), norm* spectrum, ls=ls, lw=2., alpha = alpha, label='Z=2', c='grey')\n",
    "\n",
    "    energy, spectrum = eg.res.get_solution_group(\n",
    "        [el for el in eg.spec_man.known_species[::] if 3 <= z(el) <= 10 ])\n",
    "    l = plt.plot(np.log10(1e9*energy), norm* spectrum, ls=ls, lw=2., alpha = alpha, label='Z=3-10', c='g')\n",
    "\n",
    "    energy, spectrum = eg.res.get_solution_group(\n",
    "        [el for el in eg.prince_run.spec_man.known_species[::] if 11 <= z(el) <= 18 ])\n",
    "    l = plt.plot(np.log10(1e9*energy), norm* spectrum, ls=ls, lw=2., alpha = alpha, label='Z=11-18',c='magenta')\n",
    "\n",
    "    energy, spectrum = eg.res.get_solution_group(\n",
    "        [el for el in eg.spec_man.known_species[::] if 19 <= z(el) <= 26 ])\n",
    "    l = plt.plot(np.log10(1e9*energy), norm* spectrum, ls=ls, lw=2., alpha = alpha, label='Z=19-26',c='r')\n",
    "\n",
    "    energy, spectrum = eg.res.get_solution_group(\n",
    "        [el for el in eg.spec_man.known_species[::]  if el >= 100 ])\n",
    "    l = plt.plot(np.log10(1e9*energy), norm* spectrum, ls=ls, lw=2., alpha = alpha, c='k')\n",
    "\n",
    "    \n",
    "#custom legend\n",
    "ax = plt.gca()\n",
    "handles, labels = ax.get_legend_handles_labels()\n",
    "display = (0,1,2,3,4)\n",
    "\n",
    "#Create custom artists\n",
    "legend_talys = plt.Line2D((0,1),(0,0), color='k', linestyle='solid')\n",
    "legend_PSB = plt.Line2D((0,1),(0,0), color='k', linestyle='dashed')\n",
    "legend_penaut = plt.Line2D((0,1),(0,0), color='k', linestyle='dotted')\n",
    "\n",
    "#Create legend from custom artist/label lists\n",
    "# ax.legend([handle for i,handle in enumerate(handles) if i in display]+[legend_gilmore,legend_dominguez],\n",
    "#           [label for i,label in enumerate(labels) if i in display]+['Talys', 'PSB', 'peanut'])\n",
    "\n",
    "leg2 =  ax.legend([handle for i,handle in enumerate(handles) if i in display],\n",
    "           [label for i,label in enumerate(labels) if i in display],\n",
    "                  ncol = 1, loc = 'lower left', fontsize = 'small')\n",
    "ax.legend([legend_talys,legend_PSB,legend_penaut],['Talys', 'PSB', 'Peanut'], \n",
    "          frameon=False, fontsize = 'small')\n",
    "ax.add_artist(leg2)\n",
    "\n",
    "plt.semilogy()\n",
    "# plt.legend(ncol=1, loc='upper left')\n",
    "plt.tick_params(axis='both',top=True,right=True,which='both')\n",
    "plt.xlim(17.5,20.5)\n",
    "plt.ylim(1e35,1e38)\n",
    "# plt.grid()\n",
    "plt.ylabel('E$^3$ J (arbitrary units)', fontsize = 'large')\n",
    "plt.xlabel('log$_{10}$ (E/eV)', fontsize = 'large')\n",
    "plt.title('Hard Iron injection, different CS models')\n",
    "plt.tight_layout()"
   ]
  },
  {
   "cell_type": "markdown",
   "metadata": {},
   "source": [
    "### Hard Nitrogen"
   ]
  },
  {
   "cell_type": "code",
   "execution_count": 38,
   "metadata": {},
   "outputs": [
    {
     "name": "stdout",
     "output_type": "stream",
     "text": [
      "UHECRPropagationSolverBDF::solve(): Setting up Solver\n"
     ]
    },
    {
     "name": "stderr",
     "output_type": "stream",
     "text": [
      "/home/jheinze/python_packages/PriNCe/prince/photonfields.py:122: RuntimeWarning: overflow encountered in exp\n",
      "  nlocal = pref * Ered**2 / (np.exp(Ered / E_CMB) - 1.0)\n",
      "/home/jheinze/python_packages/PriNCe/prince/photonfields.py:122: RuntimeWarning: overflow encountered in exp\n",
      "  nlocal = pref * Ered**2 / (np.exp(Ered / E_CMB) - 1.0)\n"
     ]
    },
    {
     "name": "stdout",
     "output_type": "stream",
     "text": [
      "UHECRPropagationSolverBDF::solve(): Solver initialized in 15.895956039428711 s\n",
      "UHECRPropagationSolverBDF::solve(): Starting integration.\n"
     ]
    },
    {
     "name": "stderr",
     "output_type": "stream",
     "text": [
      "/home/jheinze/python_packages/PriNCe/prince/photonfields.py:122: RuntimeWarning: overflow encountered in exp\n",
      "  nlocal = pref * Ered**2 / (np.exp(Ered / E_CMB) - 1.0)\n"
     ]
    },
    {
     "name": "stdout",
     "output_type": "stream",
     "text": [
      "UHECRPropagationSolverBDF::solve(): Integration completed in 73.52588677406311 s\n"
     ]
    }
   ],
   "source": [
    "source_hard_nitro = RigdityCutoffSource(prince_run_talys, params={1407:(1.0, 5e9,  1.0)}, norm=1e-87)\n",
    "\n",
    "solver_talys = UHECRPropagationSolverBDF(initial_z=1., final_z = 0.,prince_run=prince_run_talys,\n",
    "                                   enable_pairprod_losses = True, enable_adiabatic_losses = True,\n",
    "                                   enable_injection_jacobian = True, enable_partial_diff_jacobian=True)\n",
    "solver_talys.add_source_class(source_hard_nitro)\n",
    "solver_talys.solve(dz=1e-3,verbose=False,full_reset=False)"
   ]
  },
  {
   "cell_type": "code",
   "execution_count": 39,
   "metadata": {},
   "outputs": [
    {
     "name": "stdout",
     "output_type": "stream",
     "text": [
      "UHECRPropagationSolverBDF::solve(): Setting up Solver\n"
     ]
    },
    {
     "name": "stderr",
     "output_type": "stream",
     "text": [
      "/home/jheinze/python_packages/PriNCe/prince/photonfields.py:122: RuntimeWarning: overflow encountered in exp\n",
      "  nlocal = pref * Ered**2 / (np.exp(Ered / E_CMB) - 1.0)\n"
     ]
    },
    {
     "name": "stdout",
     "output_type": "stream",
     "text": [
      "UHECRPropagationSolverBDF::solve(): Solver initialized in 7.258111238479614 s\n",
      "UHECRPropagationSolverBDF::solve(): Starting integration.\n"
     ]
    },
    {
     "name": "stderr",
     "output_type": "stream",
     "text": [
      "/home/jheinze/python_packages/PriNCe/prince/photonfields.py:122: RuntimeWarning: overflow encountered in exp\n",
      "  nlocal = pref * Ered**2 / (np.exp(Ered / E_CMB) - 1.0)\n"
     ]
    },
    {
     "name": "stdout",
     "output_type": "stream",
     "text": [
      "UHECRPropagationSolverBDF::solve(): Integration completed in 43.84076714515686 s\n"
     ]
    }
   ],
   "source": [
    "source_hard_nitro = RigdityCutoffSource(prince_run_PSB, params={1407:(1.0, 5e9,  1.0)}, norm=1e-87)\n",
    "\n",
    "solver_PSB = UHECRPropagationSolverBDF(initial_z=1., final_z = 0.,prince_run=prince_run_PSB,\n",
    "                                   enable_pairprod_losses = True, enable_adiabatic_losses = True,\n",
    "                                   enable_injection_jacobian = True, enable_partial_diff_jacobian=True)\n",
    "solver_PSB.add_source_class(source_hard_nitro)\n",
    "solver_PSB.solve(dz=1e-3,verbose=False,full_reset=False)"
   ]
  },
  {
   "cell_type": "code",
   "execution_count": 40,
   "metadata": {},
   "outputs": [
    {
     "name": "stdout",
     "output_type": "stream",
     "text": [
      "UHECRPropagationSolverBDF::solve(): Setting up Solver\n"
     ]
    },
    {
     "name": "stderr",
     "output_type": "stream",
     "text": [
      "/home/jheinze/python_packages/PriNCe/prince/photonfields.py:122: RuntimeWarning: overflow encountered in exp\n",
      "  nlocal = pref * Ered**2 / (np.exp(Ered / E_CMB) - 1.0)\n"
     ]
    },
    {
     "name": "stdout",
     "output_type": "stream",
     "text": [
      "UHECRPropagationSolverBDF::solve(): Solver initialized in 16.74664831161499 s\n",
      "UHECRPropagationSolverBDF::solve(): Starting integration.\n"
     ]
    },
    {
     "name": "stderr",
     "output_type": "stream",
     "text": [
      "/home/jheinze/python_packages/PriNCe/prince/photonfields.py:122: RuntimeWarning: overflow encountered in exp\n",
      "  nlocal = pref * Ered**2 / (np.exp(Ered / E_CMB) - 1.0)\n"
     ]
    },
    {
     "name": "stdout",
     "output_type": "stream",
     "text": [
      "UHECRPropagationSolverBDF::solve(): Integration completed in 70.85797047615051 s\n"
     ]
    }
   ],
   "source": [
    "source_hard_nitro = RigdityCutoffSource(prince_run_peanut, params={1407:(1.0, 5e9,  1.0)}, norm=1e-87)\n",
    "\n",
    "solver_penaut = UHECRPropagationSolverBDF(initial_z=1., final_z = 0.,prince_run=prince_run_peanut,\n",
    "                                   enable_pairprod_losses = True, enable_adiabatic_losses = True,\n",
    "                                   enable_injection_jacobian = True, enable_partial_diff_jacobian=True)\n",
    "solver_penaut.add_source_class(source_hard_nitro)\n",
    "solver_penaut.solve(dz=1e-3,verbose=False,full_reset=False)"
   ]
  },
  {
   "cell_type": "code",
   "execution_count": 41,
   "metadata": {},
   "outputs": [
    {
     "name": "stderr",
     "output_type": "stream",
     "text": [
      "/home/jheinze/python_packages/PriNCe/prince/solvers.py:118: RuntimeWarning: invalid value encountered in log\n",
      "  np.log(curr_spec),\n",
      "/home/jheinze/python_packages/PriNCe/prince/solvers.py:118: RuntimeWarning: invalid value encountered in log\n",
      "  np.log(curr_spec),\n",
      "/home/jheinze/python_packages/PriNCe/prince/solvers.py:118: RuntimeWarning: invalid value encountered in log\n",
      "  np.log(curr_spec),\n",
      "/home/jheinze/python_packages/PriNCe/prince/solvers.py:118: RuntimeWarning: invalid value encountered in log\n",
      "  np.log(curr_spec),\n",
      "/home/jheinze/python_packages/PriNCe/prince/solvers.py:118: RuntimeWarning: invalid value encountered in log\n",
      "  np.log(curr_spec),\n",
      "/home/jheinze/python_packages/PriNCe/prince/solvers.py:118: RuntimeWarning: invalid value encountered in log\n",
      "  np.log(curr_spec),\n",
      "/home/jheinze/python_packages/PriNCe/prince/solvers.py:118: RuntimeWarning: invalid value encountered in log\n",
      "  np.log(curr_spec),\n",
      "/home/jheinze/python_packages/PriNCe/prince/solvers.py:118: RuntimeWarning: invalid value encountered in log\n",
      "  np.log(curr_spec),\n",
      "/home/jheinze/python_packages/PriNCe/prince/solvers.py:118: RuntimeWarning: invalid value encountered in log\n",
      "  np.log(curr_spec),\n",
      "/home/jheinze/python_packages/PriNCe/prince/solvers.py:118: RuntimeWarning: invalid value encountered in log\n",
      "  np.log(curr_spec),\n",
      "/home/jheinze/python_packages/PriNCe/prince/solvers.py:118: RuntimeWarning: invalid value encountered in log\n",
      "  np.log(curr_spec),\n",
      "/home/jheinze/python_packages/PriNCe/prince/solvers.py:118: RuntimeWarning: invalid value encountered in log\n",
      "  np.log(curr_spec),\n",
      "/home/jheinze/python_packages/PriNCe/prince/solvers.py:118: RuntimeWarning: invalid value encountered in log\n",
      "  np.log(curr_spec),\n",
      "/home/jheinze/python_packages/PriNCe/prince/solvers.py:118: RuntimeWarning: invalid value encountered in log\n",
      "  np.log(curr_spec),\n",
      "/home/jheinze/python_packages/PriNCe/prince/solvers.py:118: RuntimeWarning: invalid value encountered in log\n",
      "  np.log(curr_spec),\n",
      "/home/jheinze/python_packages/PriNCe/prince/solvers.py:118: RuntimeWarning: invalid value encountered in log\n",
      "  np.log(curr_spec),\n",
      "/home/jheinze/python_packages/PriNCe/prince/solvers.py:118: RuntimeWarning: invalid value encountered in log\n",
      "  np.log(curr_spec),\n",
      "/home/jheinze/python_packages/PriNCe/prince/solvers.py:118: RuntimeWarning: invalid value encountered in log\n",
      "  np.log(curr_spec),\n"
     ]
    },
    {
     "data": {
      "image/png": "[encoded data removed]",
      "text/plain": [
       "<Figure size 360x252 with 1 Axes>"
      ]
     },
     "metadata": {
      "needs_background": "light"
     },
     "output_type": "display_data"
    }
   ],
   "source": [
    "from prince.util import get_AZN, PRINCE_UNITS\n",
    "plt.figure(figsize=(5,3.5))\n",
    "\n",
    "z = lambda el: get_AZN(el)[1]\n",
    "energy, spectrum = solver_penaut.res.get_solution_group(\n",
    "    [el for el in solver_penaut.spec_man.known_species[::] if el >= 200])\n",
    "norm = 6e37/np.max(spectrum[(1e10 < energy) & (energy< 1e11)])\n",
    "alpha = .6\n",
    "\n",
    "for eg, ls in zip([solver_talys,solver_PSB, solver_penaut],['solid','dashed', 'dotted', '-.']):\n",
    "    \n",
    "#     energy, spectrum = eg.get_solution_group(\n",
    "#         [el for el in eg.prince_run.spec_man.known_species[::] if el >= 200])\n",
    "#     norm = 6e37/np.max(spectrum[(1e10 < energy) & (energy< 1e11)])\n",
    "    \n",
    "    energy, spectrum = eg.res.get_solution_group(\n",
    "        [el for el in eg.prince_run.spec_man.known_species[::] if z(el) == 1 and el >=100 ])\n",
    "    l = plt.plot(np.log10(1e9*energy), norm* spectrum, ls=ls, lw=2., alpha = alpha, label='Z=1', c='b')\n",
    "\n",
    "    energy, spectrum = eg.res.get_solution_group(\n",
    "        [el for el in eg.prince_run.spec_man.known_species[::] if z(el) == 2 ])\n",
    "    l = plt.plot(np.log10(1e9*energy), norm* spectrum, ls=ls, lw=2., alpha = alpha, label='Z=2', c='grey')\n",
    "\n",
    "    energy, spectrum = eg.res.get_solution_group(\n",
    "        [el for el in eg.prince_run.spec_man.known_species[::] if 3 <= z(el) <= 10 ])\n",
    "    l = plt.plot(np.log10(1e9*energy), norm* spectrum, ls=ls, lw=2., alpha = alpha, label='Z=3-10', c='g')\n",
    "\n",
    "    energy, spectrum = eg.res.get_solution_group(\n",
    "        [el for el in eg.prince_run.spec_man.known_species[::] if 11 <= z(el) <= 18 ])\n",
    "    l = plt.plot(np.log10(1e9*energy), norm* spectrum, ls=ls, lw=2., alpha = alpha, label='Z=11-18',c='magenta')\n",
    "\n",
    "    energy, spectrum = eg.res.get_solution_group(\n",
    "        [el for el in eg.prince_run.spec_man.known_species[::] if 19 <= z(el) <= 26 ])\n",
    "    l = plt.plot(np.log10(1e9*energy), norm* spectrum, ls=ls, lw=2., alpha = alpha, label='Z=19-26',c='r')\n",
    "\n",
    "    energy, spectrum = eg.res.get_solution_group(\n",
    "        [el for el in eg.prince_run.spec_man.known_species[::]  if el >= 100 ])\n",
    "    l = plt.plot(np.log10(1e9*energy), norm* spectrum, ls=ls, lw=2., alpha = alpha, c='k')\n",
    "\n",
    "    \n",
    "#custom legend\n",
    "ax = plt.gca()\n",
    "handles, labels = ax.get_legend_handles_labels()\n",
    "display = (0,1,2)\n",
    "\n",
    "#Create custom artists\n",
    "legend_talys = plt.Line2D((0,1),(0,0), color='k', linestyle='solid')\n",
    "legend_PSB = plt.Line2D((0,1),(0,0), color='k', linestyle='dashed')\n",
    "legend_penaut = plt.Line2D((0,1),(0,0), color='k', linestyle='dotted')\n",
    "\n",
    "#Create legend from custom artist/label lists\n",
    "# ax.legend([handle for i,handle in enumerate(handles) if i in display]+[legend_gilmore,legend_dominguez],\n",
    "#           [label for i,label in enumerate(labels) if i in display]+['Talys', 'PSB', 'peanut'])\n",
    "\n",
    "leg2 =  ax.legend([handle for i,handle in enumerate(handles) if i in display],\n",
    "           [label for i,label in enumerate(labels) if i in display],\n",
    "                  ncol = 1, loc = 'lower left', fontsize = 'small')\n",
    "ax.legend([legend_talys,legend_PSB,legend_penaut],['Talys', 'PSB', 'Peanut'], \n",
    "          frameon=False, fontsize = 'small')\n",
    "ax.add_artist(leg2)\n",
    "\n",
    "plt.semilogy()\n",
    "# plt.legend(ncol=1, loc='upper left')\n",
    "plt.tick_params(axis='both',top=True,right=True,which='both')\n",
    "plt.xlim(17.5,20.5)\n",
    "plt.ylim(1e35,1e38)\n",
    "# plt.grid()\n",
    "plt.ylabel('E$^3$ J (arbitrary units)', fontsize = 'large')\n",
    "plt.xlabel('log$_{10}$ (E/eV)', fontsize = 'large')\n",
    "plt.title('Hard Nitrogen injection, different CS models')\n",
    "plt.tight_layout()"
   ]
  }
 ],
 "metadata": {
  "kernelspec": {
   "display_name": "Python 3",
   "language": "python",
   "name": "python3"
  },
  "language_info": {
   "codemirror_mode": {
    "name": "ipython",
    "version": 3
   },
   "file_extension": ".py",
   "mimetype": "text/x-python",
   "name": "python",
   "nbconvert_exporter": "python",
   "pygments_lexer": "ipython3",
   "version": "3.7.7"
  }
 },
 "nbformat": 4,
 "nbformat_minor": 4
}
